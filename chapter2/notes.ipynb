{
 "cells": [
  {
   "cell_type": "markdown",
   "metadata": {},
   "source": [
    "---\n",
    "layout: notes\n",
    "chapter: 2\n",
    "permalink: /ml-book/chapter2/notes.html\n",
    "---"
   ]
  },
  {
   "cell_type": "markdown",
   "metadata": {},
   "source": [
    "## The Process\n",
    "* Big Picture (Problem Statement)\n",
    "* Get Data\n",
    "* Exploratory Data Analysis\n",
    "* Data Preparation\n",
    "* Model selection and training\n",
    "* Fine-tune the model\n",
    "* Production\n",
    "* Monitor and Maintain"
   ]
  },
  {
   "cell_type": "markdown",
   "metadata": {},
   "source": [
    "## The Task\n",
    "Build a model to predict housing prices in California given California census data. Specifically, predict the median housing price in any district, given all other metrics.  \n",
    "\n",
    "This is a supervised learning problem. It's a regression task. We can probably get away with using batch learning, since \n",
    "census data comes out once every 10(?) years and housing prices change pretty slowly over time."
   ]
  },
  {
   "cell_type": "markdown",
   "metadata": {},
   "source": [
    "## RMSE (Root Mean Squared Error)\n",
    "Measures the standard deviation of the errors the system makes in its predictions. Recall the standard deviation is:\n",
    "\n",
    "$$ \\sigma = \\sqrt{\\frac{\\sum_{i}{(\\bar{X} - X_i)^2}}{N}} $$\n",
    "\n",
    "Analogously RMSE is:\n",
    "\n",
    "$$ RMSE = \\sqrt{\\frac{\\sum_{i}{(y_i - f(X_i))^2}}{N}} $$\n",
    "\n",
    "where $f$ is our model. There is also Mean Absolute Error (MAE). RMSE is more \n",
    "sensitive to outliers than MAE because for large outliers (i.e. differences) \n",
    "RMSE will make them larger by squaring them."
   ]
  },
  {
   "cell_type": "markdown",
   "metadata": {},
   "source": [
    "f"
   ]
  },
  {
   "cell_type": "code",
   "execution_count": null,
   "metadata": {},
   "outputs": [],
   "source": []
  }
 ],
 "metadata": {
  "kernelspec": {
   "display_name": "venv",
   "language": "python",
   "name": "venv"
  },
  "language_info": {
   "codemirror_mode": {
    "name": "ipython",
    "version": 3
   },
   "file_extension": ".py",
   "mimetype": "text/x-python",
   "name": "python",
   "nbconvert_exporter": "python",
   "pygments_lexer": "ipython3",
   "version": "3.8.5"
  }
 },
 "nbformat": 4,
 "nbformat_minor": 4
}
