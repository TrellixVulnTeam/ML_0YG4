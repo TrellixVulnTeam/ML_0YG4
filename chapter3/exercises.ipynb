{
 "cells": [
  {
   "cell_type": "markdown",
   "metadata": {},
   "source": [
    "---\n",
    "layout: exercises\n",
    "chapter: 3\n",
    "chapter-title: Classification\n",
    "permalink: /ml-book/chapter3/exercises.html\n",
    "---"
   ]
  },
  {
   "cell_type": "markdown",
   "metadata": {},
   "source": [
    "## Exercise 1\n",
    "\n",
    "Build an MNIST classifier that achieves of 97% accuracy for the test set."
   ]
  },
  {
   "cell_type": "code",
   "execution_count": 1,
   "metadata": {},
   "outputs": [],
   "source": [
    "from sklearn.datasets import fetch_openml\n",
    "import numpy as np\n",
    "# MNIST changed to https://www.openml.org/d/554\n",
    "mnist = fetch_openml(\"mnist_784\", version=1, as_frame=False)\n",
    "# Do this to follow along with Geron\n",
    "def sort_by_target(mnist):visu\n",
    "    reorder_train = np.array(sorted([(target, i) for i, target in enumerate(mnist.target[:60000])]))[:, 1]\n",
    "    reorder_test = np.array(sorted([(target, i) for i, target in enumerate(mnist.target[60000:])]))[:, 1]\n",
    "    mnist.data[:60000] = mnist.data[reorder_train]\n",
    "    mnist.target[:60000] = mnist.target[reorder_train]\n",
    "    mnist.data[60000:] = mnist.data[reorder_test + 60000]\n",
    "    mnist.target[60000:] = mnist.target[reorder_test + 60000]\n",
    "mnist.target = mnist.target.astype(np.int8)\n",
    "sort_by_target(mnist)"
   ]
  },
  {
   "cell_type": "code",
   "execution_count": 2,
   "metadata": {},
   "outputs": [
    {
     "name": "stdout",
     "output_type": "stream",
     "text": [
      "(70000, 784) (70000,)\n"
     ]
    }
   ],
   "source": [
    "X, y = mnist[\"data\"], mnist[\"target\"]\n",
    "print(X.shape, y.shape)\n",
    "X_train, y_train, X_test, y_test = X[:60000], y[:60000], X[60000:], y[60000:]\n",
    "# Shuffling\n",
    "shuf_order = np.random.permutation(len(y_train))\n",
    "X_train, y_train = X_train[shuf_order, :], y_train[shuf_order]"
   ]
  },
  {
   "cell_type": "code",
   "execution_count": 5,
   "metadata": {},
   "outputs": [
    {
     "data": {
      "text/plain": [
       "array([0.97141667, 0.96991667, 0.96791667, 0.9695    , 0.97      ])"
      ]
     },
     "execution_count": 5,
     "metadata": {},
     "output_type": "execute_result"
    }
   ],
   "source": [
    "from sklearn.neighbors import KNeighborsClassifier\n",
    "from sklearn.model_selection import GridSearchCV\n",
    "from sklearn.model_selection import cross_val_score\n",
    "\n",
    "knn_clf = KNeighborsClassifier()\n",
    "\n",
    "cross_val_score(knn_clf, X_train, y_train, cv=5, scoring=\"accuracy\")"
   ]
  },
  {
   "cell_type": "code",
   "execution_count": 6,
   "metadata": {},
   "outputs": [
    {
     "name": "stdout",
     "output_type": "stream",
     "text": [
      "Fitting 5 folds for each of 10 candidates, totalling 50 fits\n"
     ]
    },
    {
     "data": {
      "text/plain": [
       "GridSearchCV(cv=5, estimator=KNeighborsClassifier(), n_jobs=4,\n",
       "             param_grid=[{'n_neighbors': [5, 6, 7, 8, 9],\n",
       "                          'weights': ['uniform', 'distance']}],\n",
       "             scoring='accuracy', verbose=4)"
      ]
     },
     "execution_count": 6,
     "metadata": {},
     "output_type": "execute_result"
    }
   ],
   "source": [
    "# Pretty close right off the bat\n",
    "# Let's try GridSearch\n",
    "params = [\n",
    "    dict(n_neighbors=list(range(5, 10)), weights=[\"uniform\", \"distance\"])\n",
    "]\n",
    "\n",
    "gs = GridSearchCV(knn_clf, param_grid=params, cv=5, scoring=\"accuracy\", verbose=4, n_jobs=4)\n",
    "gs.fit(X_train, y_train)"
   ]
  },
  {
   "cell_type": "code",
   "execution_count": 12,
   "metadata": {},
   "outputs": [
    {
     "name": "stdout",
     "output_type": "stream",
     "text": [
      "0.96975 {'n_neighbors': 5, 'weights': 'uniform'}\n",
      "0.9712 {'n_neighbors': 5, 'weights': 'distance'}\n",
      "0.9690333333333333 {'n_neighbors': 6, 'weights': 'uniform'}\n",
      "0.9721666666666666 {'n_neighbors': 6, 'weights': 'distance'}\n",
      "0.96905 {'n_neighbors': 7, 'weights': 'uniform'}\n",
      "0.9702666666666667 {'n_neighbors': 7, 'weights': 'distance'}\n",
      "0.9678333333333333 {'n_neighbors': 8, 'weights': 'uniform'}\n",
      "0.9704666666666666 {'n_neighbors': 8, 'weights': 'distance'}\n",
      "0.9673 {'n_neighbors': 9, 'weights': 'uniform'}\n",
      "0.96835 {'n_neighbors': 9, 'weights': 'distance'}\n"
     ]
    }
   ],
   "source": [
    "cvres = gs.cv_results_\n",
    "for mean_score, params in zip(cvres[\"mean_test_score\"], cvres[\"params\"]):\n",
    "    print(mean_score, params)"
   ]
  },
  {
   "cell_type": "code",
   "execution_count": 13,
   "metadata": {},
   "outputs": [],
   "source": [
    "final_model = gs.best_estimator_\n",
    "final_preds = final_model.predict(X_test)"
   ]
  },
  {
   "cell_type": "code",
   "execution_count": 16,
   "metadata": {},
   "outputs": [
    {
     "data": {
      "text/plain": [
       "0.9709"
      ]
     },
     "execution_count": 16,
     "metadata": {},
     "output_type": "execute_result"
    }
   ],
   "source": [
    "from sklearn.metrics import accuracy_score\n",
    "\n",
    "accuracy_score(y_test, final_preds)\n",
    "# Barely better : /, but we pass the exercise"
   ]
  },
  {
   "cell_type": "markdown",
   "metadata": {},
   "source": [
    "## Exercise 2\n",
    "\n",
    "Augment the training set by writing a function which shifts each image in the training set by one pixel in each of the four directions (up, down, left, right)."
   ]
  },
  {
   "cell_type": "code",
   "execution_count": 34,
   "metadata": {},
   "outputs": [
    {
     "data": {
      "text/plain": [
       "Text(0.5, 1.0, 'Left Shift')"
      ]
     },
     "execution_count": 34,
     "metadata": {},
     "output_type": "execute_result"
    },
    {
     "data": {
      "image/png": "[encoded data removed]",
      "text/plain": [
       "<Figure size 432x288 with 1 Axes>"
      ]
     },
     "metadata": {
      "needs_background": "light"
     },
     "output_type": "display_data"
    },
    {
     "data": {
      "image/png": "[encoded data removed]",
      "text/plain": [
       "<Figure size 432x288 with 1 Axes>"
      ]
     },
     "metadata": {
      "needs_background": "light"
     },
     "output_type": "display_data"
    },
    {
     "data": {
      "image/png": "[encoded data removed]",
      "text/plain": [
       "<Figure size 432x288 with 1 Axes>"
      ]
     },
     "metadata": {
      "needs_background": "light"
     },
     "output_type": "display_data"
    },
    {
     "data": {
      "image/png": "[encoded data removed]",
      "text/plain": [
       "<Figure size 432x288 with 1 Axes>"
      ]
     },
     "metadata": {
      "needs_background": "light"
     },
     "output_type": "display_data"
    },
    {
     "data": {
      "image/png": "[encoded data removed]",
      "text/plain": [
       "<Figure size 432x288 with 1 Axes>"
      ]
     },
     "metadata": {
      "needs_background": "light"
     },
     "output_type": "display_data"
    }
   ],
   "source": [
    "from scipy.ndimage import shift\n",
    "import matplotlib.pyplot as plt\n",
    "\n",
    "plt.imshow(X_train[0].reshape((28, 28)))\n",
    "plt.title(\"Original\")\n",
    "plt.figure()\n",
    "plt.imshow(shift(X_train[0].reshape((28, 28)), [10, 0], cval=0).astype(int))\n",
    "plt.title(\"Down Shift\")\n",
    "plt.figure()\n",
    "plt.imshow(shift(X_train[0].reshape((28, 28)), [-10, 0], cval=0).astype(int))\n",
    "plt.title(\"Up Shift\")\n",
    "plt.figure()\n",
    "plt.imshow(shift(X_train[0].reshape((28, 28)), [0, 10], cval=0).astype(int))\n",
    "plt.title(\"Right Shift\")\n",
    "plt.figure()\n",
    "plt.imshow(shift(X_train[0].reshape((28, 28)), [0, -10], cval=0).astype(int))\n",
    "plt.title(\"Left Shift\")\n"
   ]
  },
  {
   "cell_type": "code",
   "execution_count": 38,
   "metadata": {},
   "outputs": [],
   "source": [
    "def aug(x, y):\n",
    "    new_x = []\n",
    "    new_y = []\n",
    "    for xi, yi in zip(x, y):\n",
    "        im = xi.reshape((28, 28))\n",
    "        down = shift(im, [1, 0], cval=0).astype(int)\n",
    "        up = shift(im, [-1, 0], cval=0).astype(int)\n",
    "        right = shift(im, [0, 1], cval=0).astype(int)\n",
    "        left = shift(im, [0, -1], cval=0).astype(int)\n",
    "        for v in [im, down, up, right, left]:\n",
    "            new_x.append(v.flatten())\n",
    "            new_y.append(yi)\n",
    "    return np.array(new_x), np.array(new_y)\n",
    "X_train_aug, y_train_aug = aug(X_train, y_train)"
   ]
  },
  {
   "cell_type": "code",
   "execution_count": 39,
   "metadata": {},
   "outputs": [
    {
     "data": {
      "text/plain": [
       "(60000, 300000)"
      ]
     },
     "execution_count": 39,
     "metadata": {},
     "output_type": "execute_result"
    }
   ],
   "source": [
    "len(X_train), len(X_train_aug)"
   ]
  },
  {
   "cell_type": "code",
   "execution_count": 42,
   "metadata": {},
   "outputs": [
    {
     "data": {
      "text/plain": [
       "0.9772"
      ]
     },
     "execution_count": 42,
     "metadata": {},
     "output_type": "execute_result"
    }
   ],
   "source": [
    "knn_clf_aug = KNeighborsClassifier(**gs.best_params_)\n",
    "knn_clf_aug.fit(X_train_aug, y_train_aug)\n",
    "final_preds_aug = knn_clf_aug.predict(X_test)\n",
    "accuracy_score(y_test, final_preds_aug)"
   ]
  },
  {
   "cell_type": "markdown",
   "metadata": {},
   "source": [
    "That's a ~0.63% improvement!"
   ]
  },
  {
   "cell_type": "markdown",
   "metadata": {},
   "source": [
    "## Exercise 3\n",
    "\n",
    "Do Kaggle Titanic. See [here](https://www.kaggle.com/rileypeterson/code) (In Progress...)."
   ]
  },
  {
   "cell_type": "code",
   "execution_count": null,
   "metadata": {},
   "outputs": [],
   "source": []
  }
 ],
 "metadata": {
  "kernelspec": {
   "display_name": "venv",
   "language": "python",
   "name": "venv"
  },
  "language_info": {
   "codemirror_mode": {
    "name": "ipython",
    "version": 3
   },
   "file_extension": ".py",
   "mimetype": "text/x-python",
   "name": "python",
   "nbconvert_exporter": "python",
   "pygments_lexer": "ipython3",
   "version": "3.8.5"
  }
 },
 "nbformat": 4,
 "nbformat_minor": 4
}
