{
 "cells": [
  {
   "cell_type": "markdown",
   "metadata": {},
   "source": [
    "---\n",
    "layout: exercises\n",
    "chapter: 2\n",
    "permalink: /ml-book/chapter2/exercises.html\n",
    "---"
   ]
  },
  {
   "cell_type": "markdown",
   "metadata": {},
   "source": [
    "## Exercise 1\n",
    "\n",
    "Try a Support Vector Machine with various hyperparameters. So that means grid search on the hyperparameters. We're going to start from scratch just to recall all the steps."
   ]
  },
  {
   "cell_type": "code",
   "execution_count": 1,
   "metadata": {},
   "outputs": [],
   "source": [
    "import tarfile\n",
    "import tempfile\n",
    "import urllib.request\n",
    "import os\n",
    "import pandas as pd\n",
    "import numpy as np\n",
    "from sklearn.model_selection import train_test_split\n",
    "\n",
    "housing_url = (\n",
    "    \"https://raw.githubusercontent.com/ageron/\"\n",
    "    + \"handson-ml/master/datasets/housing/housing.tgz\"\n",
    ")\n",
    "FIGSIZE = (16, 12)\n",
    "\n",
    "\n",
    "def read_tar(url):\n",
    "    r = urllib.request.urlopen(url)\n",
    "    with tempfile.TemporaryDirectory() as d:\n",
    "        with tarfile.open(fileobj=r, mode=\"r:gz\") as tf:\n",
    "            tf.extractall(path=d)\n",
    "            name = tf.getnames()[0]\n",
    "        df = pd.read_csv(os.path.join(d, name))\n",
    "    return df\n",
    "\n",
    "\n",
    "df = read_tar(housing_url)\n",
    "\n",
    "# Stratify by important features\n",
    "strat_values = df[\"median_income\"]\n",
    "bins = 5\n",
    "strat = np.ceil(strat_values / 1.5)\n",
    "strat = strat.where(strat < 5, 5.0)\n",
    "df[\"income_cat\"] = strat\n",
    "strat_train_set, strat_test_set = train_test_split(\n",
    "    df, test_size=0.2, random_state=42, stratify=strat\n",
    ")\n",
    "\n",
    "# Remove strat feature\n",
    "cols = [i for i in df.columns if i != \"income_cat\"]\n",
    "df = df.loc[:, cols]\n",
    "strat_train_set = strat_train_set.loc[:, cols]\n",
    "strat_test_set = strat_test_set.loc[:, cols]\n",
    "\n",
    "# Add combo features\n",
    "df[\"population_per_household\"] = df[\"population\"] / df[\"households\"]\n",
    "df[\"bedrooms_per_room\"] = df[\"total_bedrooms\"] / df[\"total_rooms\"]\n",
    "df[\"rooms_per_household\"] = df[\"total_rooms\"] / df[\"households\"]\n",
    "\n",
    "# Remove target from inputs\n",
    "target = \"median_house_value\"\n",
    "x = df[[col for col in df.columns if col != target]].copy()\n",
    "y = df[[target]].copy()"
   ]
  },
  {
   "cell_type": "code",
   "execution_count": 2,
   "metadata": {},
   "outputs": [
    {
     "name": "stdout",
     "output_type": "stream",
     "text": [
      "(20640, 16)\n",
      "(20640,)\n"
     ]
    }
   ],
   "source": [
    "from sklearn.pipeline import Pipeline, FeatureUnion\n",
    "from sklearn.compose import ColumnTransformer\n",
    "from sklearn.preprocessing import StandardScaler, OneHotEncoder\n",
    "from sklearn.impute import SimpleImputer\n",
    "\n",
    "# Pipeline\n",
    "cat_cols = [\"ocean_proximity\"]\n",
    "num_cols = [col for col in x.columns if col not in cat_cols]\n",
    "\n",
    "num_pipeline = Pipeline(\n",
    "    [\n",
    "        (\"imputer\", SimpleImputer(strategy=\"median\")),\n",
    "        (\"std_scaler\", StandardScaler()),\n",
    "    ]\n",
    ")\n",
    "\n",
    "pipeline = ColumnTransformer(\n",
    "    [\n",
    "        (\"num\", num_pipeline, num_cols),\n",
    "        (\"cat\", OneHotEncoder(), cat_cols),\n",
    "    ]\n",
    ")\n",
    "x_final = pipeline.fit_transform(x)\n",
    "y_final = y.copy().values[:, 0]\n",
    "print(x_final.shape)\n",
    "print(y_final.shape)"
   ]
  },
  {
   "cell_type": "code",
   "execution_count": 11,
   "metadata": {},
   "outputs": [
    {
     "name": "stdout",
     "output_type": "stream",
     "text": [
      "Fitting 5 folds for each of 30 candidates, totalling 150 fits\n"
     ]
    },
    {
     "name": "stderr",
     "output_type": "stream",
     "text": [
      "[Parallel(n_jobs=4)]: Using backend LokyBackend with 4 concurrent workers.\n",
      "[Parallel(n_jobs=4)]: Done  17 tasks      | elapsed:  1.5min\n",
      "[Parallel(n_jobs=4)]: Done  90 tasks      | elapsed:  8.9min\n",
      "[Parallel(n_jobs=4)]: Done 150 out of 150 | elapsed: 15.1min finished\n"
     ]
    },
    {
     "data": {
      "text/plain": [
       "GridSearchCV(cv=5, estimator=SVR(), n_jobs=4,\n",
       "             param_grid=[{'C': array([1.e-02, 1.e-01, 1.e+00, 1.e+01, 1.e+02]),\n",
       "                          'kernel': ['linear']},\n",
       "                         {'C': array([1.e-02, 1.e-01, 1.e+00, 1.e+01, 1.e+02]),\n",
       "                          'gamma': array([1.e-03, 1.e-02, 1.e-01, 1.e+00, 1.e+01]),\n",
       "                          'kernel': ['rbf']}],\n",
       "             return_train_score=True, scoring='neg_mean_squared_error',\n",
       "             verbose=4)"
      ]
     },
     "execution_count": 11,
     "metadata": {},
     "output_type": "execute_result"
    }
   ],
   "source": [
    "# Grid search\n",
    "from sklearn.model_selection import GridSearchCV\n",
    "from sklearn.svm import SVR\n",
    "\n",
    "# https://scikit-learn.org/stable/modules/generated/sklearn.svm.SVR.html#sklearn.svm.SVR\n",
    "\n",
    "param_grid = [\n",
    "    {\"kernel\": [\"linear\"], \"C\": np.logspace(-2, 2, 5)},\n",
    "    {\"kernel\": [\"rbf\"], \"C\": np.logspace(-2, 2, 5), \"gamma\": np.logspace(-3, 1, 5)},\n",
    "]\n",
    "\n",
    "svr_reg = SVR()\n",
    "\n",
    "grid_search = GridSearchCV(\n",
    "    svr_reg,\n",
    "    param_grid,\n",
    "    cv=5,\n",
    "    scoring=\"neg_mean_squared_error\",\n",
    "    return_train_score=True,\n",
    "    n_jobs=4,\n",
    "    verbose=4,\n",
    ")\n",
    "grid_search.fit(x_final, y_final)"
   ]
  },
  {
   "cell_type": "code",
   "execution_count": 12,
   "metadata": {},
   "outputs": [
    {
     "name": "stdout",
     "output_type": "stream",
     "text": [
      "{'C': 100.0, 'kernel': 'linear'}\n",
      "SVR(C=100.0, kernel='linear')\n",
      "120046.83746066342 {'C': 0.01, 'kernel': 'linear'}\n",
      "119313.36974987865 {'C': 0.1, 'kernel': 'linear'}\n",
      "112692.04970886311 {'C': 1.0, 'kernel': 'linear'}\n",
      "84708.66839222891 {'C': 10.0, 'kernel': 'linear'}\n",
      "74449.9743277484 {'C': 100.0, 'kernel': 'linear'}\n",
      "120132.95001003973 {'C': 0.01, 'gamma': 0.001, 'kernel': 'rbf'}\n",
      "120131.66921718646 {'C': 0.01, 'gamma': 0.01, 'kernel': 'rbf'}\n",
      "120129.58678535324 {'C': 0.01, 'gamma': 0.1, 'kernel': 'rbf'}\n",
      "120132.74223046939 {'C': 0.01, 'gamma': 1.0, 'kernel': 'rbf'}\n",
      "120133.11221026107 {'C': 0.01, 'gamma': 10.0, 'kernel': 'rbf'}\n",
      "120131.32982041281 {'C': 0.1, 'gamma': 0.001, 'kernel': 'rbf'}\n",
      "120118.43736317645 {'C': 0.1, 'gamma': 0.01, 'kernel': 'rbf'}\n",
      "120097.61802146187 {'C': 0.1, 'gamma': 0.1, 'kernel': 'rbf'}\n",
      "120129.26313275466 {'C': 0.1, 'gamma': 1.0, 'kernel': 'rbf'}\n",
      "120133.07528895183 {'C': 0.1, 'gamma': 10.0, 'kernel': 'rbf'}\n",
      "120115.04323111309 {'C': 1.0, 'gamma': 0.001, 'kernel': 'rbf'}\n",
      "119995.12676569127 {'C': 1.0, 'gamma': 0.01, 'kernel': 'rbf'}\n",
      "119815.3873602283 {'C': 1.0, 'gamma': 0.1, 'kernel': 'rbf'}\n",
      "120095.48937602463 {'C': 1.0, 'gamma': 1.0, 'kernel': 'rbf'}\n",
      "120132.62190047713 {'C': 1.0, 'gamma': 10.0, 'kernel': 'rbf'}\n",
      "119965.05566501652 {'C': 10.0, 'gamma': 0.001, 'kernel': 'rbf'}\n",
      "118854.6745015883 {'C': 10.0, 'gamma': 0.01, 'kernel': 'rbf'}\n",
      "117089.72323801681 {'C': 10.0, 'gamma': 0.1, 'kernel': 'rbf'}\n",
      "119858.45250446712 {'C': 10.0, 'gamma': 1.0, 'kernel': 'rbf'}\n",
      "120129.00480115737 {'C': 10.0, 'gamma': 10.0, 'kernel': 'rbf'}\n",
      "118561.05702632615 {'C': 100.0, 'gamma': 0.001, 'kernel': 'rbf'}\n",
      "108868.53282659988 {'C': 100.0, 'gamma': 0.01, 'kernel': 'rbf'}\n",
      "99283.73122290114 {'C': 100.0, 'gamma': 0.1, 'kernel': 'rbf'}\n",
      "117585.44385508774 {'C': 100.0, 'gamma': 1.0, 'kernel': 'rbf'}\n",
      "120101.26502369305 {'C': 100.0, 'gamma': 10.0, 'kernel': 'rbf'}\n"
     ]
    }
   ],
   "source": [
    "print(grid_search.best_params_)\n",
    "# Since these were the max we probably want to run it with higher values...\n",
    "print(grid_search.best_estimator_)\n",
    "cvres = grid_search.cv_results_\n",
    "for mean_score, params in zip(cvres[\"mean_test_score\"], cvres[\"params\"]):\n",
    "    print(np.sqrt(-mean_score), params)"
   ]
  },
  {
   "cell_type": "code",
   "execution_count": 13,
   "metadata": {},
   "outputs": [],
   "source": [
    "# Best one is: 74449.9743277484 {'C': 100.0, 'kernel': 'linear'}"
   ]
  },
  {
   "cell_type": "markdown",
   "metadata": {},
   "source": [
    "## Exercise 2\n",
    "Try `RandomizedSearchCV` instead of the grid search."
   ]
  },
  {
   "cell_type": "code",
   "execution_count": 48,
   "metadata": {},
   "outputs": [
    {
     "name": "stdout",
     "output_type": "stream",
     "text": [
      "Fitting 5 folds for each of 30 candidates, totalling 150 fits\n"
     ]
    },
    {
     "name": "stderr",
     "output_type": "stream",
     "text": [
      "[Parallel(n_jobs=4)]: Using backend LokyBackend with 4 concurrent workers.\n",
      "[Parallel(n_jobs=4)]: Done  17 tasks      | elapsed:  1.9min\n",
      "[Parallel(n_jobs=4)]: Done  90 tasks      | elapsed: 11.8min\n",
      "[Parallel(n_jobs=4)]: Done 150 out of 150 | elapsed: 19.4min finished\n"
     ]
    },
    {
     "data": {
      "text/plain": [
       "RandomizedSearchCV(cv=5, estimator=SVR(), n_iter=30, n_jobs=4,\n",
       "                   param_distributions={'C': <scipy.stats._distn_infrastructure.rv_frozen object at 0x132d145e0>,\n",
       "                                        'gamma': <scipy.stats._distn_infrastructure.rv_frozen object at 0x13225eaf0>,\n",
       "                                        'kernel': ['linear', 'rbf']},\n",
       "                   return_train_score=True, scoring='neg_mean_squared_error',\n",
       "                   verbose=4)"
      ]
     },
     "execution_count": 48,
     "metadata": {},
     "output_type": "execute_result"
    }
   ],
   "source": [
    "from sklearn.model_selection import RandomizedSearchCV\n",
    "from scipy.stats import recipinvgauss, reciprocal\n",
    "\n",
    "# Since C is centered at\n",
    "\n",
    "param_grid = {\n",
    "    \"kernel\": [\"linear\", \"rbf\"],\n",
    "    \"C\": reciprocal(1, 1000000),\n",
    "    \"gamma\": recipinvgauss(mu=1, scale=0.5),\n",
    "}\n",
    "\n",
    "\n",
    "svr_reg = SVR()\n",
    "\n",
    "grid_search = RandomizedSearchCV(\n",
    "    svr_reg,\n",
    "    param_grid,\n",
    "    cv=5,\n",
    "    scoring=\"neg_mean_squared_error\",\n",
    "    return_train_score=True,\n",
    "    n_jobs=4,\n",
    "    n_iter=30,\n",
    "    verbose=4,\n",
    ")\n",
    "grid_search.fit(x_final, y_final)"
   ]
  },
  {
   "cell_type": "code",
   "execution_count": 49,
   "metadata": {},
   "outputs": [
    {
     "name": "stdout",
     "output_type": "stream",
     "text": [
      "0.40364256834993917\n",
      "1.322189693395722\n",
      "28.2468988692541\n",
      "31881.1740923203\n"
     ]
    },
    {
     "data": {
      "image/png": "[encoded data removed]",
      "text/plain": [
       "<Figure size 432x288 with 1 Axes>"
      ]
     },
     "metadata": {
      "needs_background": "light"
     },
     "output_type": "display_data"
    }
   ],
   "source": [
    "%matplotlib inline\n",
    "from scipy.stats import recipinvgauss, reciprocal\n",
    "import matplotlib.pyplot as plt\n",
    "\n",
    "rv = recipinvgauss(mu=1, scale=0.5)\n",
    "vals = rv.rvs(size=10000)\n",
    "plt.hist(vals, bins=40, density=True)\n",
    "plt.hist(np.log(vals), bins=40, density=True)\n",
    "print(np.quantile(vals, 0.25))\n",
    "print(np.quantile(vals, 0.75))\n",
    "\n",
    "rv1 = reciprocal(1, 1000000)\n",
    "vals = rv1.rvs(size=10000)\n",
    "# plt.hist(vals, bins=40, density=True)\n",
    "plt.hist(np.log(vals), bins=40, density=True)\n",
    "print(np.quantile(vals, 0.25))\n",
    "print(np.quantile(vals, 0.75))"
   ]
  },
  {
   "cell_type": "code",
   "execution_count": 50,
   "metadata": {},
   "outputs": [
    {
     "name": "stdout",
     "output_type": "stream",
     "text": [
      "{'C': 213086.81055914456, 'gamma': 0.43753758012999744, 'kernel': 'rbf'}\n",
      "SVR(C=213086.81055914456, gamma=0.43753758012999744)\n",
      "86922.13248255629 {'C': 8.366566042717265, 'gamma': 0.570389688549627, 'kernel': 'linear'}\n",
      "108940.09733634934 {'C': 112.90281928704358, 'gamma': 0.34622625583652333, 'kernel': 'rbf'}\n",
      "77482.89380061901 {'C': 69496.08270814756, 'gamma': 1.4269585049166456, 'kernel': 'linear'}\n",
      "88694.80156763176 {'C': 7.3920771548663655, 'gamma': 3.094038787353801, 'kernel': 'linear'}\n",
      "77478.50967107895 {'C': 29100.862636014495, 'gamma': 0.34570001769982, 'kernel': 'linear'}\n",
      "77480.15495365753 {'C': 166038.1616977072, 'gamma': 0.716976295083469, 'kernel': 'linear'}\n",
      "77173.14674835099 {'C': 7754.122689703942, 'gamma': 0.6299597811263543, 'kernel': 'linear'}\n",
      "67179.25553893886 {'C': 213086.81055914456, 'gamma': 0.43753758012999744, 'kernel': 'rbf'}\n",
      "75000.92839623214 {'C': 431.7411750880907, 'gamma': 1.4726229965871818, 'kernel': 'linear'}\n",
      "77776.81326184724 {'C': 23.73956017569095, 'gamma': 1.5622450995843944, 'kernel': 'linear'}\n",
      "76001.31467144821 {'C': 974.7978670291761, 'gamma': 0.10198976545558847, 'kernel': 'rbf'}\n",
      "120099.11767685601 {'C': 2.001894505635638, 'gamma': 1.6102803109953276, 'kernel': 'rbf'}\n",
      "117017.65816463032 {'C': 12.446434888187543, 'gamma': 0.16010633829072501, 'kernel': 'rbf'}\n",
      "119539.14394623176 {'C': 11.535484162183055, 'gamma': 0.6614577812082622, 'kernel': 'rbf'}\n",
      "118190.95411652334 {'C': 301.83563049289364, 'gamma': 2.075303005602983, 'kernel': 'rbf'}\n",
      "71666.87015669054 {'C': 40331.54708973871, 'gamma': 0.6715290369027956, 'kernel': 'rbf'}\n",
      "76773.79716060465 {'C': 4707.555909403828, 'gamma': 0.7039968882510544, 'kernel': 'linear'}\n",
      "118967.13144966713 {'C': 39.44354980821416, 'gamma': 0.9170816813828603, 'kernel': 'rbf'}\n",
      "75946.42891611365 {'C': 848.561483333006, 'gamma': 0.0817326902648654, 'kernel': 'rbf'}\n",
      "74421.87334351259 {'C': 180.25902644638163, 'gamma': 0.784200136959768, 'kernel': 'linear'}\n",
      "75764.03377391145 {'C': 24574.588703531022, 'gamma': 0.7747648572752451, 'kernel': 'rbf'}\n",
      "119997.23391248379 {'C': 1.3971315281598753, 'gamma': 0.47727455561440163, 'kernel': 'rbf'}\n",
      "86005.72605371661 {'C': 69044.35646561596, 'gamma': 2.0280319619816884, 'kernel': 'rbf'}\n",
      "117951.7838403175 {'C': 143.71272921390602, 'gamma': 1.3280660854622348, 'kernel': 'rbf'}\n",
      "117743.1476132982 {'C': 539.3363652863815, 'gamma': 2.462101901209176, 'kernel': 'rbf'}\n",
      "68200.58350364857 {'C': 8009.16322915411, 'gamma': 0.16427762321547978, 'kernel': 'rbf'}\n",
      "78229.59098213134 {'C': 20405.111727373547, 'gamma': 0.8508539673679466, 'kernel': 'rbf'}\n",
      "96531.64243487571 {'C': 4960.87253801678, 'gamma': 1.2603250015966314, 'kernel': 'rbf'}\n",
      "69758.88084842438 {'C': 13027.251555935156, 'gamma': 0.3373399035670439, 'kernel': 'rbf'}\n",
      "76514.20927753948 {'C': 3268.792643448487, 'gamma': 1.2047119199309158, 'kernel': 'linear'}\n"
     ]
    }
   ],
   "source": [
    "print(grid_search.best_params_)\n",
    "# Since these were the max we probably want to run it with higher values...\n",
    "print(grid_search.best_estimator_)\n",
    "cvres = grid_search.cv_results_\n",
    "for mean_score, params in zip(cvres[\"mean_test_score\"], cvres[\"params\"]):\n",
    "    print(np.sqrt(-mean_score), params)"
   ]
  },
  {
   "cell_type": "code",
   "execution_count": 51,
   "metadata": {},
   "outputs": [],
   "source": [
    "# Best was 67179.25553893886 {'C': 213086.81055914456, 'gamma': 0.43753758012999744, 'kernel': 'rbf'}\n",
    "# Better than before, but it probably make more sense to learn\n",
    "# about hyperparameters and how they work, than just guessing randomly"
   ]
  },
  {
   "cell_type": "markdown",
   "metadata": {},
   "source": [
    "## Exercise 3\n",
    "Add a transformer in the pipeline to select only the most important attributes."
   ]
  },
  {
   "cell_type": "code",
   "execution_count": 111,
   "metadata": {
    "scrolled": true
   },
   "outputs": [],
   "source": [
    "from sklearn.base import BaseEstimator, TransformerMixin\n",
    "\n",
    "feature_importances = [\n",
    "    (0.3317845401920315, \"median_income\"),\n",
    "    (0.14391320344674868, \"INLAND\"),\n",
    "    (0.10526089823364354, \"population_per_household\"),\n",
    "    (0.08263855622539133, \"bedrooms_per_room\"),\n",
    "    (0.08109436950269967, \"longitude\"),\n",
    "    (0.06119936528237925, \"latitude\"),\n",
    "    (0.05437513667126127, \"rooms_per_household\"),\n",
    "    (0.04269180191935387, \"housing_median_age\"),\n",
    "    (0.018543650605563098, \"population\"),\n",
    "    (0.017855965561009164, \"total_rooms\"),\n",
    "    (0.01747459825864214, \"total_bedrooms\"),\n",
    "    (0.016371631697584668, \"households\"),\n",
    "    (0.015137593949840484, \"<1H OCEAN\"),\n",
    "    (0.006837130390816489, \"NEAR OCEAN\"),\n",
    "    (0.004801246718794319, \"NEAR BAY\"),\n",
    "    (2.0311344240502856e-05, \"ISLAND\"),\n",
    "]\n",
    "\n",
    "encoder_classes = [\"<1H OCEAN\", \"INLAND\", \"ISLAND\", \"NEAR BAY\", \"NEAR OCEAN\"]\n",
    "\n",
    "\n",
    "class ImportantFeatureSelector(BaseEstimator, TransformerMixin):\n",
    "    def __init__(self, feature_importances, cols, features=8):\n",
    "        self.feature_importances = feature_importances\n",
    "        self.cols = cols\n",
    "        self.features = features\n",
    "\n",
    "    def fit(self, X, y=None):\n",
    "        return self\n",
    "\n",
    "    def transform(self, X):\n",
    "        cs = [i[1] for i in self.feature_importances[: self.features]]\n",
    "        # Sort here to maintain order\n",
    "        idxs = sorted([self.cols.index(i) for i in cs])\n",
    "        return X[:, idxs]\n",
    "\n",
    "\n",
    "# Pipeline\n",
    "cat_cols = [\"ocean_proximity\"]\n",
    "num_cols = [col for col in x.columns if col not in cat_cols]\n",
    "\n",
    "num_pipeline = Pipeline(\n",
    "    [\n",
    "        (\"imputer\", SimpleImputer(strategy=\"median\")),\n",
    "        (\"std_scaler\", StandardScaler()),\n",
    "    ]\n",
    ")\n",
    "\n",
    "pipeline = ColumnTransformer(\n",
    "    [\n",
    "        (\"num\", num_pipeline, num_cols),\n",
    "        (\"cat\", OneHotEncoder(handle_unknown=\"ignore\"), cat_cols),\n",
    "    ]\n",
    ")\n",
    "\n",
    "pipeline = Pipeline(\n",
    "    [\n",
    "        (\"full_pipeline\", pipeline),\n",
    "        (\n",
    "            \"important_selector\",\n",
    "            ImportantFeatureSelector(\n",
    "                feature_importances, num_cols + encoder_classes, features=8\n",
    "            ),\n",
    "        ),\n",
    "    ]\n",
    ")\n",
    "x_final = pipeline.fit_transform(x)\n",
    "y_final = y.copy().values[:, 0]\n",
    "# I double checked that this worked, but commenting out the Standard Scaler\n",
    "# and comparing to first row of x and x_final"
   ]
  },
  {
   "cell_type": "markdown",
   "metadata": {},
   "source": [
    "## Exercise 4\n",
    "Try creating a single pipeline that does the full data preparation plus the final prediction."
   ]
  },
  {
   "cell_type": "code",
   "execution_count": 112,
   "metadata": {},
   "outputs": [],
   "source": [
    "ex4_pipeline = Pipeline(\n",
    "    [\n",
    "        (\"prev_pipeline\", pipeline),\n",
    "        (\"svr\", SVR(**grid_search.best_params_)),\n",
    "    ]\n",
    ")\n",
    "# This runs .transform on prev_pipeline(?), seems like it did\n",
    "ex4_model = ex4_pipeline.fit(x, y_final)"
   ]
  },
  {
   "cell_type": "code",
   "execution_count": 113,
   "metadata": {},
   "outputs": [
    {
     "name": "stdout",
     "output_type": "stream",
     "text": [
      "[448803. 424097. 436690. 313041.]\n",
      "[452600. 358500. 352100. 341300.]\n"
     ]
    }
   ],
   "source": [
    "ex4_data = x.iloc[:4]\n",
    "ex4_labels = y_final[:4]\n",
    "print(ex4_model.predict(ex4_data).round())\n",
    "print(ex4_labels)"
   ]
  },
  {
   "cell_type": "markdown",
   "metadata": {},
   "source": [
    "## Exercise 5\n",
    "Automatically explore some preparation options using `GridSearchCV`."
   ]
  },
  {
   "cell_type": "code",
   "execution_count": 114,
   "metadata": {},
   "outputs": [
    {
     "name": "stdout",
     "output_type": "stream",
     "text": [
      "memory\n",
      "steps\n",
      "verbose\n",
      "prev_pipeline\n",
      "svr\n",
      "prev_pipeline__memory\n",
      "prev_pipeline__steps\n",
      "prev_pipeline__verbose\n",
      "prev_pipeline__full_pipeline\n",
      "prev_pipeline__important_selector\n",
      "prev_pipeline__full_pipeline__n_jobs\n",
      "prev_pipeline__full_pipeline__remainder\n",
      "prev_pipeline__full_pipeline__sparse_threshold\n",
      "prev_pipeline__full_pipeline__transformer_weights\n",
      "prev_pipeline__full_pipeline__transformers\n",
      "prev_pipeline__full_pipeline__verbose\n",
      "prev_pipeline__full_pipeline__num\n",
      "prev_pipeline__full_pipeline__cat\n",
      "prev_pipeline__full_pipeline__num__memory\n",
      "prev_pipeline__full_pipeline__num__steps\n",
      "prev_pipeline__full_pipeline__num__verbose\n",
      "prev_pipeline__full_pipeline__num__imputer\n",
      "prev_pipeline__full_pipeline__num__std_scaler\n",
      "prev_pipeline__full_pipeline__num__imputer__add_indicator\n",
      "prev_pipeline__full_pipeline__num__imputer__copy\n",
      "prev_pipeline__full_pipeline__num__imputer__fill_value\n",
      "prev_pipeline__full_pipeline__num__imputer__missing_values\n",
      "prev_pipeline__full_pipeline__num__imputer__strategy\n",
      "prev_pipeline__full_pipeline__num__imputer__verbose\n",
      "prev_pipeline__full_pipeline__num__std_scaler__copy\n",
      "prev_pipeline__full_pipeline__num__std_scaler__with_mean\n",
      "prev_pipeline__full_pipeline__num__std_scaler__with_std\n",
      "prev_pipeline__full_pipeline__cat__categories\n",
      "prev_pipeline__full_pipeline__cat__drop\n",
      "prev_pipeline__full_pipeline__cat__dtype\n",
      "prev_pipeline__full_pipeline__cat__handle_unknown\n",
      "prev_pipeline__full_pipeline__cat__sparse\n",
      "prev_pipeline__important_selector__cols\n",
      "prev_pipeline__important_selector__feature_importances\n",
      "prev_pipeline__important_selector__features\n",
      "svr__C\n",
      "svr__cache_size\n",
      "svr__coef0\n",
      "svr__degree\n",
      "svr__epsilon\n",
      "svr__gamma\n",
      "svr__kernel\n",
      "svr__max_iter\n",
      "svr__shrinking\n",
      "svr__tol\n",
      "svr__verbose\n"
     ]
    }
   ],
   "source": [
    "print(\"\\n\".join(list(ex4_pipeline.get_params().keys())))"
   ]
  },
  {
   "cell_type": "code",
   "execution_count": 115,
   "metadata": {
    "scrolled": false
   },
   "outputs": [
    {
     "name": "stdout",
     "output_type": "stream",
     "text": [
      "Fitting 5 folds for each of 18 candidates, totalling 90 fits\n"
     ]
    },
    {
     "name": "stderr",
     "output_type": "stream",
     "text": [
      "[Parallel(n_jobs=4)]: Using backend LokyBackend with 4 concurrent workers.\n",
      "[Parallel(n_jobs=4)]: Done  17 tasks      | elapsed:  1.4min\n",
      "[Parallel(n_jobs=4)]: Done  90 out of  90 | elapsed:  6.9min finished\n"
     ]
    },
    {
     "data": {
      "text/plain": [
       "GridSearchCV(cv=5,\n",
       "             estimator=Pipeline(steps=[('prev_pipeline',\n",
       "                                        Pipeline(steps=[('full_pipeline',\n",
       "                                                         ColumnTransformer(transformers=[('num',\n",
       "                                                                                          Pipeline(steps=[('imputer',\n",
       "                                                                                                           SimpleImputer(strategy='median')),\n",
       "                                                                                                          ('std_scaler',\n",
       "                                                                                                           StandardScaler())]),\n",
       "                                                                                          ['longitude',\n",
       "                                                                                           'latitude',\n",
       "                                                                                           'housing_median_age',\n",
       "                                                                                           'total_rooms',\n",
       "                                                                                           'total_bedrooms',\n",
       "                                                                                           'population',\n",
       "                                                                                           'households',\n",
       "                                                                                           'median_income',\n",
       "                                                                                           'pop...\n",
       "                                                                                                       (2.0311344240502856e-05,\n",
       "                                                                                                        'ISLAND')]))])),\n",
       "                                       ('svr',\n",
       "                                        SVR(C=213086.81055914456,\n",
       "                                            gamma=0.43753758012999744))]),\n",
       "             n_jobs=4,\n",
       "             param_grid=[{'prev_pipeline__full_pipeline__num__imputer__strategy': ['mean',\n",
       "                                                                                   'most_frequent'],\n",
       "                          'prev_pipeline__important_selector__features': [3, 4,\n",
       "                                                                          5],\n",
       "                          'svr__epsilon': array([0.01, 0.1 , 1.  ])}],\n",
       "             return_train_score=True, scoring='neg_mean_squared_error',\n",
       "             verbose=4)"
      ]
     },
     "execution_count": 115,
     "metadata": {},
     "output_type": "execute_result"
    }
   ],
   "source": [
    "grid_params = [\n",
    "    {\n",
    "        \"prev_pipeline__full_pipeline__num__imputer__strategy\": [\n",
    "            \"mean\",\n",
    "            \"most_frequent\",\n",
    "        ],\n",
    "        \"prev_pipeline__important_selector__features\": list(range(3, 6)),\n",
    "        \"svr__epsilon\": np.logspace(-2, 0, 3),\n",
    "    }\n",
    "]\n",
    "\n",
    "gs = GridSearchCV(\n",
    "    ex4_pipeline,\n",
    "    grid_params,\n",
    "    cv=5,\n",
    "    scoring=\"neg_mean_squared_error\",\n",
    "    return_train_score=True,\n",
    "    n_jobs=4,\n",
    "    verbose=4,\n",
    ")\n",
    "gs.fit(x, y_final)"
   ]
  },
  {
   "cell_type": "code",
   "execution_count": 116,
   "metadata": {},
   "outputs": [
    {
     "name": "stdout",
     "output_type": "stream",
     "text": [
      "{'prev_pipeline__full_pipeline__num__imputer__strategy': 'most_frequent', 'prev_pipeline__important_selector__features': 4, 'svr__epsilon': 0.01}\n",
      "Pipeline(steps=[('prev_pipeline',\n",
      "                 Pipeline(steps=[('full_pipeline',\n",
      "                                  ColumnTransformer(transformers=[('num',\n",
      "                                                                   Pipeline(steps=[('imputer',\n",
      "                                                                                    SimpleImputer(strategy='most_frequent')),\n",
      "                                                                                   ('std_scaler',\n",
      "                                                                                    StandardScaler())]),\n",
      "                                                                   ['longitude',\n",
      "                                                                    'latitude',\n",
      "                                                                    'housing_median_age',\n",
      "                                                                    'total_rooms',\n",
      "                                                                    'total_bedrooms',\n",
      "                                                                    'population',\n",
      "                                                                    'households',\n",
      "                                                                    'median_income',\n",
      "                                                                    'population_per_household...\n",
      "                                                                                 'population'),\n",
      "                                                                                (0.017855965561009164,\n",
      "                                                                                 'total_rooms'),\n",
      "                                                                                (0.01747459825864214,\n",
      "                                                                                 'total_bedrooms'),\n",
      "                                                                                (0.016371631697584668,\n",
      "                                                                                 'households'),\n",
      "                                                                                (0.015137593949840484,\n",
      "                                                                                 '<1H '\n",
      "                                                                                 'OCEAN'),\n",
      "                                                                                (0.006837130390816489,\n",
      "                                                                                 'NEAR '\n",
      "                                                                                 'OCEAN'),\n",
      "                                                                                (0.004801246718794319,\n",
      "                                                                                 'NEAR '\n",
      "                                                                                 'BAY'),\n",
      "                                                                                (2.0311344240502856e-05,\n",
      "                                                                                 'ISLAND')],\n",
      "                                                           features=4))])),\n",
      "                ('svr',\n",
      "                 SVR(C=213086.81055914456, epsilon=0.01,\n",
      "                     gamma=0.43753758012999744))])\n",
      "68518.29884263125 {'prev_pipeline__full_pipeline__num__imputer__strategy': 'mean', 'prev_pipeline__important_selector__features': 3, 'svr__epsilon': 0.01}\n",
      "68518.29432576336 {'prev_pipeline__full_pipeline__num__imputer__strategy': 'mean', 'prev_pipeline__important_selector__features': 3, 'svr__epsilon': 0.1}\n",
      "68518.23408166702 {'prev_pipeline__full_pipeline__num__imputer__strategy': 'mean', 'prev_pipeline__important_selector__features': 3, 'svr__epsilon': 1.0}\n",
      "67035.46282230441 {'prev_pipeline__full_pipeline__num__imputer__strategy': 'mean', 'prev_pipeline__important_selector__features': 4, 'svr__epsilon': 0.01}\n",
      "67035.46222793893 {'prev_pipeline__full_pipeline__num__imputer__strategy': 'mean', 'prev_pipeline__important_selector__features': 4, 'svr__epsilon': 0.1}\n",
      "67035.4446865113 {'prev_pipeline__full_pipeline__num__imputer__strategy': 'mean', 'prev_pipeline__important_selector__features': 4, 'svr__epsilon': 1.0}\n",
      "69814.47717260549 {'prev_pipeline__full_pipeline__num__imputer__strategy': 'mean', 'prev_pipeline__important_selector__features': 5, 'svr__epsilon': 0.01}\n",
      "69814.47002786033 {'prev_pipeline__full_pipeline__num__imputer__strategy': 'mean', 'prev_pipeline__important_selector__features': 5, 'svr__epsilon': 0.1}\n",
      "69814.4032625619 {'prev_pipeline__full_pipeline__num__imputer__strategy': 'mean', 'prev_pipeline__important_selector__features': 5, 'svr__epsilon': 1.0}\n",
      "68518.29884263125 {'prev_pipeline__full_pipeline__num__imputer__strategy': 'most_frequent', 'prev_pipeline__important_selector__features': 3, 'svr__epsilon': 0.01}\n",
      "68518.29432576336 {'prev_pipeline__full_pipeline__num__imputer__strategy': 'most_frequent', 'prev_pipeline__important_selector__features': 3, 'svr__epsilon': 0.1}\n",
      "68518.23408166702 {'prev_pipeline__full_pipeline__num__imputer__strategy': 'most_frequent', 'prev_pipeline__important_selector__features': 3, 'svr__epsilon': 1.0}\n",
      "66997.77217958865 {'prev_pipeline__full_pipeline__num__imputer__strategy': 'most_frequent', 'prev_pipeline__important_selector__features': 4, 'svr__epsilon': 0.01}\n",
      "66997.7728305426 {'prev_pipeline__full_pipeline__num__imputer__strategy': 'most_frequent', 'prev_pipeline__important_selector__features': 4, 'svr__epsilon': 0.1}\n",
      "66997.79453259113 {'prev_pipeline__full_pipeline__num__imputer__strategy': 'most_frequent', 'prev_pipeline__important_selector__features': 4, 'svr__epsilon': 1.0}\n",
      "69799.97323191866 {'prev_pipeline__full_pipeline__num__imputer__strategy': 'most_frequent', 'prev_pipeline__important_selector__features': 5, 'svr__epsilon': 0.01}\n",
      "69799.96662789413 {'prev_pipeline__full_pipeline__num__imputer__strategy': 'most_frequent', 'prev_pipeline__important_selector__features': 5, 'svr__epsilon': 0.1}\n",
      "69799.9048895546 {'prev_pipeline__full_pipeline__num__imputer__strategy': 'most_frequent', 'prev_pipeline__important_selector__features': 5, 'svr__epsilon': 1.0}\n"
     ]
    }
   ],
   "source": [
    "print(gs.best_params_)\n",
    "# Since these were the max we probably want to run it with higher values...\n",
    "print(gs.best_estimator_)\n",
    "cvres = gs.cv_results_\n",
    "for mean_score, params in zip(cvres[\"mean_test_score\"], cvres[\"params\"]):\n",
    "    print(np.sqrt(-mean_score), params)"
   ]
  },
  {
   "cell_type": "markdown",
   "metadata": {},
   "source": [
    "* It's super convenient that you can set parameters like that (i.e. using the string version)\n",
    "* Exercises took too long... SVR takes a long time to fit with cv"
   ]
  }
 ],
 "metadata": {
  "kernelspec": {
   "display_name": "venv",
   "language": "python",
   "name": "venv"
  },
  "language_info": {
   "codemirror_mode": {
    "name": "ipython",
    "version": 3
   },
   "file_extension": ".py",
   "mimetype": "text/x-python",
   "name": "python",
   "nbconvert_exporter": "python",
   "pygments_lexer": "ipython3",
   "version": "3.8.5"
  }
 },
 "nbformat": 4,
 "nbformat_minor": 4
}
