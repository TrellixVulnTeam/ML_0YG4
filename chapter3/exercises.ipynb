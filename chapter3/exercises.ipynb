{
 "cells": [
  {
   "cell_type": "markdown",
   "metadata": {},
   "source": [
    "---\n",
    "layout: exercises\n",
    "chapter: 3\n",
    "chapter-title: Classification\n",
    "permalink: /ml-book/chapter3/exercises.html\n",
    "---"
   ]
  },
  {
   "cell_type": "markdown",
   "metadata": {},
   "source": [
    "## Exercise 1\n",
    "\n",
    "Build an MNIST classifier that achieves of 97% accuracy for the test set."
   ]
  },
  {
   "cell_type": "code",
   "execution_count": 1,
   "metadata": {},
   "outputs": [],
   "source": [
    "from sklearn.datasets import fetch_openml\n",
    "import numpy as np\n",
    "\n",
    "# MNIST changed to https://www.openml.org/d/554\n",
    "mnist = fetch_openml(\"mnist_784\", version=1, as_frame=False)\n",
    "# Do this to follow along with Geron\n",
    "def sort_by_target(mnist):\n",
    "    reorder_train = np.array(\n",
    "        sorted([(target, i) for i, target in enumerate(mnist.target[:60000])])\n",
    "    )[:, 1]\n",
    "    reorder_test = np.array(\n",
    "        sorted([(target, i) for i, target in enumerate(mnist.target[60000:])])\n",
    "    )[:, 1]\n",
    "    mnist.data[:60000] = mnist.data[reorder_train]\n",
    "    mnist.target[:60000] = mnist.target[reorder_train]\n",
    "    mnist.data[60000:] = mnist.data[reorder_test + 60000]\n",
    "    mnist.target[60000:] = mnist.target[reorder_test + 60000]\n",
    "\n",
    "\n",
    "mnist.target = mnist.target.astype(np.int8)\n",
    "sort_by_target(mnist)"
   ]
  },
  {
   "cell_type": "code",
   "execution_count": 2,
   "metadata": {},
   "outputs": [
    {
     "name": "stdout",
     "output_type": "stream",
     "text": [
      "(70000, 784) (70000,)\n"
     ]
    }
   ],
   "source": [
    "X, y = mnist[\"data\"], mnist[\"target\"]\n",
    "print(X.shape, y.shape)\n",
    "X_train, y_train, X_test, y_test = X[:60000], y[:60000], X[60000:], y[60000:]\n",
    "# Shuffling\n",
    "shuf_order = np.random.permutation(len(y_train))\n",
    "X_train, y_train = X_train[shuf_order, :], y_train[shuf_order]"
   ]
  },
  {
   "cell_type": "code",
   "execution_count": 3,
   "metadata": {},
   "outputs": [
    {
     "data": {
      "text/plain": [
       "array([0.97316667, 0.97241667, 0.968     , 0.96791667, 0.97158333])"
      ]
     },
     "execution_count": 3,
     "metadata": {},
     "output_type": "execute_result"
    }
   ],
   "source": [
    "from sklearn.neighbors import KNeighborsClassifier\n",
    "from sklearn.model_selection import GridSearchCV\n",
    "from sklearn.model_selection import cross_val_score\n",
    "\n",
    "knn_clf = KNeighborsClassifier()\n",
    "\n",
    "cross_val_score(knn_clf, X_train, y_train, cv=5, scoring=\"accuracy\")"
   ]
  },
  {
   "cell_type": "code",
   "execution_count": 4,
   "metadata": {},
   "outputs": [
    {
     "name": "stdout",
     "output_type": "stream",
     "text": [
      "Fitting 5 folds for each of 10 candidates, totalling 50 fits\n"
     ]
    },
    {
     "data": {
      "text/plain": [
       "GridSearchCV(cv=5, estimator=KNeighborsClassifier(), n_jobs=4,\n",
       "             param_grid=[{'n_neighbors': [5, 6, 7, 8, 9],\n",
       "                          'weights': ['uniform', 'distance']}],\n",
       "             scoring='accuracy', verbose=4)"
      ]
     },
     "execution_count": 4,
     "metadata": {},
     "output_type": "execute_result"
    }
   ],
   "source": [
    "# Pretty close right off the bat\n",
    "# Let's try GridSearch\n",
    "params = [dict(n_neighbors=list(range(5, 10)), weights=[\"uniform\", \"distance\"])]\n",
    "\n",
    "gs = GridSearchCV(\n",
    "    knn_clf, param_grid=params, cv=5, scoring=\"accuracy\", verbose=4, n_jobs=4\n",
    ")\n",
    "gs.fit(X_train, y_train)"
   ]
  },
  {
   "cell_type": "code",
   "execution_count": 5,
   "metadata": {},
   "outputs": [
    {
     "name": "stdout",
     "output_type": "stream",
     "text": [
      "0.9706166666666667 {'n_neighbors': 5, 'weights': 'uniform'}\n",
      "0.9719833333333334 {'n_neighbors': 5, 'weights': 'distance'}\n",
      "0.9691166666666667 {'n_neighbors': 6, 'weights': 'uniform'}\n",
      "0.9722 {'n_neighbors': 6, 'weights': 'distance'}\n",
      "0.9697999999999999 {'n_neighbors': 7, 'weights': 'uniform'}\n",
      "0.9710333333333333 {'n_neighbors': 7, 'weights': 'distance'}\n",
      "0.9679333333333332 {'n_neighbors': 8, 'weights': 'uniform'}\n",
      "0.97065 {'n_neighbors': 8, 'weights': 'distance'}\n",
      "0.9675833333333334 {'n_neighbors': 9, 'weights': 'uniform'}\n",
      "0.9689166666666666 {'n_neighbors': 9, 'weights': 'distance'}\n"
     ]
    }
   ],
   "source": [
    "cvres = gs.cv_results_\n",
    "for mean_score, params in zip(cvres[\"mean_test_score\"], cvres[\"params\"]):\n",
    "    print(mean_score, params)"
   ]
  },
  {
   "cell_type": "code",
   "execution_count": 6,
   "metadata": {},
   "outputs": [],
   "source": [
    "final_model = gs.best_estimator_\n",
    "final_preds = final_model.predict(X_test)"
   ]
  },
  {
   "cell_type": "code",
   "execution_count": 7,
   "metadata": {},
   "outputs": [
    {
     "data": {
      "text/plain": [
       "0.9709"
      ]
     },
     "execution_count": 7,
     "metadata": {},
     "output_type": "execute_result"
    }
   ],
   "source": [
    "from sklearn.metrics import accuracy_score\n",
    "\n",
    "accuracy_score(y_test, final_preds)\n",
    "# Barely better : /, but we pass the exercise"
   ]
  },
  {
   "cell_type": "markdown",
   "metadata": {},
   "source": [
    "## Exercise 2\n",
    "\n",
    "Augment the training set by writing a function which shifts each image in the training set by one pixel in each of the four directions (up, down, left, right)."
   ]
  },
  {
   "cell_type": "code",
   "execution_count": 8,
   "metadata": {},
   "outputs": [
    {
     "data": {
      "text/plain": [
       "Text(0.5, 1.0, 'Left Shift')"
      ]
     },
     "execution_count": 8,
     "metadata": {},
     "output_type": "execute_result"
    },
    {
     "data": {
      "image/png": "[encoded data removed]",
      "text/plain": [
       "<Figure size 432x288 with 1 Axes>"
      ]
     },
     "metadata": {
      "needs_background": "light"
     },
     "output_type": "display_data"
    },
    {
     "data": {
      "image/png": "[encoded data removed]",
      "text/plain": [
       "<Figure size 432x288 with 1 Axes>"
      ]
     },
     "metadata": {
      "needs_background": "light"
     },
     "output_type": "display_data"
    },
    {
     "data": {
      "image/png": "[encoded data removed]",
      "text/plain": [
       "<Figure size 432x288 with 1 Axes>"
      ]
     },
     "metadata": {
      "needs_background": "light"
     },
     "output_type": "display_data"
    },
    {
     "data": {
      "image/png": "[encoded data removed]",
      "text/plain": [
       "<Figure size 432x288 with 1 Axes>"
      ]
     },
     "metadata": {
      "needs_background": "light"
     },
     "output_type": "display_data"
    },
    {
     "data": {
      "image/png": "[encoded data removed]",
      "text/plain": [
       "<Figure size 432x288 with 1 Axes>"
      ]
     },
     "metadata": {
      "needs_background": "light"
     },
     "output_type": "display_data"
    }
   ],
   "source": [
    "from scipy.ndimage import shift\n",
    "import matplotlib.pyplot as plt\n",
    "\n",
    "plt.imshow(X_train[0].reshape((28, 28)))\n",
    "plt.title(\"Original\")\n",
    "plt.figure()\n",
    "plt.imshow(shift(X_train[0].reshape((28, 28)), [10, 0], cval=0).astype(int))\n",
    "plt.title(\"Down Shift\")\n",
    "plt.figure()\n",
    "plt.imshow(shift(X_train[0].reshape((28, 28)), [-10, 0], cval=0).astype(int))\n",
    "plt.title(\"Up Shift\")\n",
    "plt.figure()\n",
    "plt.imshow(shift(X_train[0].reshape((28, 28)), [0, 10], cval=0).astype(int))\n",
    "plt.title(\"Right Shift\")\n",
    "plt.figure()\n",
    "plt.imshow(shift(X_train[0].reshape((28, 28)), [0, -10], cval=0).astype(int))\n",
    "plt.title(\"Left Shift\")"
   ]
  },
  {
   "cell_type": "code",
   "execution_count": 9,
   "metadata": {},
   "outputs": [],
   "source": [
    "def aug(x, y):\n",
    "    new_x = []\n",
    "    new_y = []\n",
    "    for xi, yi in zip(x, y):\n",
    "        im = xi.reshape((28, 28))\n",
    "        down = shift(im, [1, 0], cval=0).astype(int)\n",
    "        up = shift(im, [-1, 0], cval=0).astype(int)\n",
    "        right = shift(im, [0, 1], cval=0).astype(int)\n",
    "        left = shift(im, [0, -1], cval=0).astype(int)\n",
    "        for v in [im, down, up, right, left]:\n",
    "            new_x.append(v.flatten())\n",
    "            new_y.append(yi)\n",
    "    return np.array(new_x), np.array(new_y)\n",
    "\n",
    "\n",
    "X_train_aug, y_train_aug = aug(X_train, y_train)"
   ]
  },
  {
   "cell_type": "code",
   "execution_count": 10,
   "metadata": {},
   "outputs": [
    {
     "data": {
      "text/plain": [
       "(60000, 300000)"
      ]
     },
     "execution_count": 10,
     "metadata": {},
     "output_type": "execute_result"
    }
   ],
   "source": [
    "len(X_train), len(X_train_aug)"
   ]
  },
  {
   "cell_type": "code",
   "execution_count": 11,
   "metadata": {},
   "outputs": [
    {
     "data": {
      "text/plain": [
       "0.9772"
      ]
     },
     "execution_count": 11,
     "metadata": {},
     "output_type": "execute_result"
    }
   ],
   "source": [
    "knn_clf_aug = KNeighborsClassifier(**gs.best_params_)\n",
    "knn_clf_aug.fit(X_train_aug, y_train_aug)\n",
    "final_preds_aug = knn_clf_aug.predict(X_test)\n",
    "accuracy_score(y_test, final_preds_aug)"
   ]
  },
  {
   "cell_type": "markdown",
   "metadata": {},
   "source": [
    "That's a ~0.63% improvement! (Subject to random seeds)"
   ]
  },
  {
   "cell_type": "markdown",
   "metadata": {},
   "source": [
    "## Exercise 3\n",
    "\n",
    "Do Kaggle Titanic. See [here](https://www.kaggle.com/code/rileypeterson/titanic)."
   ]
  },
  {
   "cell_type": "markdown",
   "metadata": {},
   "source": [
    "## Exercise 4\n",
    "Build a spam classifier..."
   ]
  },
  {
   "cell_type": "markdown",
   "metadata": {},
   "source": [
    "From [here](https://spamassassin.apache.org/old/publiccorpus/readme.html):\n",
    "\n",
    "    > OK, now onto the corpus description.  It's split into three parts, as follows:\n",
    "\n",
    "      - spam: 500 spam messages, all received from non-spam-trap sources.\n",
    "\n",
    "      - easy_ham: 2500 non-spam messages.  These are typically quite easy to\n",
    "        differentiate from spam, since they frequently do not contain any spammish\n",
    "        signatures (like HTML etc)."
   ]
  },
  {
   "cell_type": "code",
   "execution_count": 1,
   "metadata": {
    "scrolled": false
   },
   "outputs": [
    {
     "name": "stdout",
     "output_type": "stream",
     "text": [
      "500\n",
      "2500\n"
     ]
    }
   ],
   "source": [
    "import requests\n",
    "import tarfile\n",
    "from io import BytesIO\n",
    "\n",
    "\n",
    "def fetch_spam_tar(url):\n",
    "    d = dict()\n",
    "    r = requests.get(url, stream=True)\n",
    "    with tarfile.open(fileobj=BytesIO(r.raw.read()), mode=\"r:bz2\") as f:\n",
    "        i = 0\n",
    "        for member in f.getmembers():\n",
    "            txt = f.extractfile(member)\n",
    "            if txt and \".\" in member.name:\n",
    "                #                 print(member.name)\n",
    "                d[i] = {\"filename\": member.name, \"bytes\": txt.read()}\n",
    "                i += 1\n",
    "    return d\n",
    "\n",
    "\n",
    "spam_dict = fetch_spam_tar(\n",
    "    \"https://spamassassin.apache.org/old/publiccorpus/20030228_spam.tar.bz2\"\n",
    ")\n",
    "easy_ham_dict = fetch_spam_tar(\n",
    "    \"https://spamassassin.apache.org/old/publiccorpus/20030228_easy_ham.tar.bz2\"\n",
    ")\n",
    "print(len(spam_dict))\n",
    "print(len(easy_ham_dict))"
   ]
  },
  {
   "cell_type": "code",
   "execution_count": 2,
   "metadata": {},
   "outputs": [],
   "source": [
    "from email import policy\n",
    "from email.parser import BytesParser\n",
    "\n",
    "b = BytesParser(policy=policy.default)\n",
    "e = b.parsebytes(spam_dict[0][\"bytes\"])\n",
    "for k, v in spam_dict.items():\n",
    "    spam_dict[k][\"email\"] = b.parsebytes(v[\"bytes\"])\n",
    "for k, v in easy_ham_dict.items():\n",
    "    easy_ham_dict[k][\"email\"] = b.parsebytes(v[\"bytes\"])"
   ]
  },
  {
   "cell_type": "code",
   "execution_count": 3,
   "metadata": {},
   "outputs": [
    {
     "name": "stdout",
     "output_type": "stream",
     "text": [
      "['Return-Path', 'Delivered-To', 'Received', 'Received', 'Received', 'From', 'Received', 'To', 'Subject', 'Date', 'MIME-Version', 'Message-ID', 'Content-Type', 'Content-Transfer-Encoding']\n",
      "<!DOCTYPE HTML PUBLIC \"-//W3C//DTD HTML 4.0 Transitional//EN\">\n",
      "<HTML><HEAD>\n",
      "<META content=\"text/html; charset=windows-1252\" http-equiv=Content-Type>\n",
      "<META content=\"MSHTML 5.00.2314.1000\" name=GENERATOR></HEAD>\n",
      "<BODY><!-- Inserted by Calypso -->\n",
      "<TABLE border=0 cellPadding=0 cellSpacing=2 id=_CalyPrintHeader_ rules=none \n",
      "style=\"COLOR: black; DISPLAY: none\" width=\"100%\">\n",
      "  <TBODY>\n",
      "  <TR>\n",
      "    <TD colSpan=3>\n",
      "      <HR color=black noShade SIZE=1>\n",
      "    </TD></TR></TD></TR>\n",
      "  <TR>\n",
      "    <TD colSpan=3>\n",
      "      <HR color=black noShade SIZE=1>\n",
      "    </TD></TR></TBODY></TABLE><!-- End Calypso --><!-- Inserted by Calypso --><FONT \n",
      "color=#000000 face=VERDANA,ARIAL,HELVETICA size=-2><BR></FONT></TD></TR></TABLE><!-- End Calypso --><FONT color=#ff0000 \n",
      "face=\"Copperplate Gothic Bold\" size=5 PTSIZE=\"10\">\n",
      "<CENTER>Save up to 70% on Life Insurance.</CENTER></FONT><FONT color=#ff0000 \n",
      "face=\"Copperplate Gothic Bold\" size=5 PTSIZE=\"10\">\n",
      "<CENTER>Why Spend More Than You Have To?\n",
      "<CENTER><FONT color=#ff0000 face=\"Copperplate Gothic Bold\" size=5 PTSIZE=\"10\">\n",
      "<CENTER>Life Quote Savings\n",
      "<CENTER>\n",
      "<P align=left></P>\n",
      "<P align=left></P></FONT></U></I></B><BR></FONT></U></B></U></I>\n",
      "<P></P>\n",
      "<CENTER>\n",
      "<TABLE border=0 borderColor=#111111 cellPadding=0 cellSpacing=0 width=650>\n",
      "  <TBODY></TBODY></TABLE>\n",
      "<TABLE border=0 borderColor=#111111 cellPadding=5 cellSpacing=0 width=650>\n",
      "  <TBODY>\n",
      "  <TR>\n",
      "    <TD colSpan=2 width=\"35%\"><B><FONT face=Verdana size=4>Ensuring your \n",
      "      family's financial security is very important. Life Quote Savings makes \n",
      "      buying life insurance simple and affordable. We Provide FREE Access to The \n",
      "      Very Best Companies and The Lowest Rates.</FONT></B></TD></TR>\n",
      "  <TR>\n",
      "    <TD align=middle vAlign=top width=\"18%\">\n",
      "      <TABLE borderColor=#111111 width=\"100%\">\n",
      "        <TBODY>\n",
      "        <TR>\n",
      "          <TD style=\"PADDING-LEFT: 5px; PADDING-RIGHT: 5px\" width=\"100%\"><FONT \n",
      "            face=Verdana size=4><B>Life Quote Savings</B> is FAST, EASY and \n",
      "            SAVES you money! Let us help you get started with the best values in \n",
      "            the country on new coverage. You can SAVE hundreds or even thousands \n",
      "            of dollars by requesting a FREE quote from Lifequote Savings. Our \n",
      "            service will take you less than 5 minutes to complete. Shop and \n",
      "            compare. SAVE up to 70% on all types of Life insurance! \n",
      "</FONT></TD></TR>\n",
      "        <TR><BR><BR>\n",
      "          <TD height=50 style=\"PADDING-LEFT: 5px; PADDING-RIGHT: 5px\" \n",
      "          width=\"100%\">\n",
      "            <P align=center><B><FONT face=Verdana size=5><A \n",
      "            href=\"http://website.e365.cc/savequote/\">Click Here For Your \n",
      "            Free Quote!</A></FONT></B></P></TD>\n",
      "          <P><FONT face=Verdana size=4><STRONG>\n",
      "          <CENTER>Protecting your family is the best investment you'll ever \n",
      "          make!<BR></B></TD></TR>\n",
      "        <TR><BR><BR></STRONG></FONT></TD></TR></TD></TR>\n",
      "        <TR></TR></TBODY></TABLE>\n",
      "      <P align=left><FONT face=\"Arial, Helvetica, sans-serif\" size=2></FONT></P>\n",
      "      <P></P>\n",
      "      <CENTER><BR><BR><BR>\n",
      "      <P></P>\n",
      "      <P align=left><BR></B><BR><BR><BR><BR></P>\n",
      "      <P align=center><BR></P>\n",
      "      <P align=left><BR></B><BR><BR></FONT>If you are in receipt of this email \n",
      "      in error and/or wish to be removed from our list, <A \n",
      "      href=\"mailto:coins@btamail.net.cn\">PLEASE CLICK HERE</A> AND TYPE REMOVE. If you \n",
      "      reside in any state which prohibits e-mail solicitations for insurance, \n",
      "      please disregard this \n",
      "      email.<BR></FONT><BR><BR><BR><BR><BR><BR><BR><BR><BR><BR><BR><BR><BR><BR><BR><BR></FONT></P></CENTER></CENTER></TR></TBODY></TABLE></CENTER></CENTER></CENTER></CENTER></CENTER></BODY></HTML>\n",
      "\n",
      "\n",
      "\n",
      "\n"
     ]
    }
   ],
   "source": [
    "print(e.keys())\n",
    "print(e.get_content())"
   ]
  },
  {
   "cell_type": "code",
   "execution_count": 4,
   "metadata": {},
   "outputs": [
    {
     "data": {
      "text/html": [
       "<div>\n",
       "<style scoped>\n",
       "    .dataframe tbody tr th:only-of-type {\n",
       "        vertical-align: middle;\n",
       "    }\n",
       "\n",
       "    .dataframe tbody tr th {\n",
       "        vertical-align: top;\n",
       "    }\n",
       "\n",
       "    .dataframe thead th {\n",
       "        text-align: right;\n",
       "    }\n",
       "</style>\n",
       "<table border=\"1\" class=\"dataframe\">\n",
       "  <thead>\n",
       "    <tr style=\"text-align: right;\">\n",
       "      <th></th>\n",
       "      <th>email</th>\n",
       "      <th>is_spam</th>\n",
       "    </tr>\n",
       "  </thead>\n",
       "  <tbody>\n",
       "    <tr>\n",
       "      <th>0</th>\n",
       "      <td>[Return-Path, Delivered-To, Received, Received...</td>\n",
       "      <td>1</td>\n",
       "    </tr>\n",
       "    <tr>\n",
       "      <th>1</th>\n",
       "      <td>[Return-Path, Delivered-To, Received, Received...</td>\n",
       "      <td>1</td>\n",
       "    </tr>\n",
       "    <tr>\n",
       "      <th>2</th>\n",
       "      <td>[Return-Path, Delivered-To, Received, Received...</td>\n",
       "      <td>1</td>\n",
       "    </tr>\n",
       "    <tr>\n",
       "      <th>3</th>\n",
       "      <td>[Return-Path, Delivered-To, Received, Received...</td>\n",
       "      <td>1</td>\n",
       "    </tr>\n",
       "    <tr>\n",
       "      <th>4</th>\n",
       "      <td>[Return-Path, Delivered-To, Received, Received...</td>\n",
       "      <td>1</td>\n",
       "    </tr>\n",
       "    <tr>\n",
       "      <th>...</th>\n",
       "      <td>...</td>\n",
       "      <td>...</td>\n",
       "    </tr>\n",
       "    <tr>\n",
       "      <th>2995</th>\n",
       "      <td>[Return-Path, Delivered-To, Received, Received...</td>\n",
       "      <td>0</td>\n",
       "    </tr>\n",
       "    <tr>\n",
       "      <th>2996</th>\n",
       "      <td>[Return-Path, Delivered-To, Received, Received...</td>\n",
       "      <td>0</td>\n",
       "    </tr>\n",
       "    <tr>\n",
       "      <th>2997</th>\n",
       "      <td>[Return-Path, Delivered-To, Received, Received...</td>\n",
       "      <td>0</td>\n",
       "    </tr>\n",
       "    <tr>\n",
       "      <th>2998</th>\n",
       "      <td>[Return-Path, Delivered-To, Received, Received...</td>\n",
       "      <td>0</td>\n",
       "    </tr>\n",
       "    <tr>\n",
       "      <th>2999</th>\n",
       "      <td>[Return-Path, Delivered-To, Received, Received...</td>\n",
       "      <td>0</td>\n",
       "    </tr>\n",
       "  </tbody>\n",
       "</table>\n",
       "<p>3000 rows × 2 columns</p>\n",
       "</div>"
      ],
      "text/plain": [
       "                                                  email  is_spam\n",
       "0     [Return-Path, Delivered-To, Received, Received...        1\n",
       "1     [Return-Path, Delivered-To, Received, Received...        1\n",
       "2     [Return-Path, Delivered-To, Received, Received...        1\n",
       "3     [Return-Path, Delivered-To, Received, Received...        1\n",
       "4     [Return-Path, Delivered-To, Received, Received...        1\n",
       "...                                                 ...      ...\n",
       "2995  [Return-Path, Delivered-To, Received, Received...        0\n",
       "2996  [Return-Path, Delivered-To, Received, Received...        0\n",
       "2997  [Return-Path, Delivered-To, Received, Received...        0\n",
       "2998  [Return-Path, Delivered-To, Received, Received...        0\n",
       "2999  [Return-Path, Delivered-To, Received, Received...        0\n",
       "\n",
       "[3000 rows x 2 columns]"
      ]
     },
     "execution_count": 4,
     "metadata": {},
     "output_type": "execute_result"
    }
   ],
   "source": [
    "# Let's make a dataset\n",
    "import pandas as pd\n",
    "\n",
    "dataset = {\"email\": [], \"is_spam\": []}\n",
    "for k, v in spam_dict.items():\n",
    "    dataset[\"email\"].append(v[\"email\"])\n",
    "    dataset[\"is_spam\"].append(1)\n",
    "for k, v in easy_ham_dict.items():\n",
    "    dataset[\"email\"].append(v[\"email\"])\n",
    "    dataset[\"is_spam\"].append(0)\n",
    "\n",
    "df = pd.DataFrame(data=dataset)\n",
    "df"
   ]
  },
  {
   "cell_type": "code",
   "execution_count": 5,
   "metadata": {},
   "outputs": [
    {
     "name": "stdout",
     "output_type": "stream",
     "text": [
      "<!DOCTYPE HTML PUBLIC \"-//W3C//DTD HTML 4.0 Transitional//EN\">\n",
      "<HTML><HEAD>\n",
      "<META content=\"text/html; charset=windows-1252\" http-equiv=Content-Type>\n",
      "<META content=\"MSHTML 5.00.2314.1000\" name=GENERATOR></HEAD>\n",
      "<BODY><!-- Inserted by Calypso -->\n",
      "<TABLE border=0 cellPadding=0 cellSpacing=2 id=_CalyPrintHeader_ rules=none \n",
      "style=\"COLOR: black; DISPLAY: none\" width=\"100%\">\n",
      "  <TBODY>\n",
      "  <TR>\n",
      "    <TD colSpan=3>\n",
      "      <HR color=black noShade SIZE=1>\n",
      "    </TD></TR></TD></TR>\n",
      "  <TR>\n",
      "    <TD colSpan=3>\n",
      "      <HR color=black noShade SIZE=1>\n",
      "    </TD></TR></TBODY></TABLE><!-- End Calypso --><!-- Inserted by Calypso --><FONT \n",
      "color=#000000 face=VERDANA,ARIAL,HELVETICA size=-2><BR></FONT></TD></TR></TABLE><!-- End Calypso --><FONT color=#ff0000 \n",
      "face=\"Copperplate Gothic Bold\" size=5 PTSIZE=\"10\">\n",
      "<CENTER>Save up to 70% on Life Insurance.</CENTER></FONT><FONT color=#ff0000 \n",
      "face=\"Copperplate Gothic Bold\" size=5 PTSIZE=\"10\">\n",
      "<CENTER>Why Spend More Than You Have To?\n",
      "<CENTER><FONT color=#ff0000 face=\"Copperplate Gothic Bold\" size=5 PTSIZE=\"10\">\n",
      "<CENTER>Life Quote Savings\n",
      "<CENTER>\n",
      "<P align=left></P>\n",
      "<P align=left></P></FONT></U></I></B><BR></FONT></U></B></U></I>\n",
      "<P></P>\n",
      "<CENTER>\n",
      "<TABLE border=0 borderColor=#111111 cellPadding=0 cellSpacing=0 width=650>\n",
      "  <TBODY></TBODY></TABLE>\n",
      "<TABLE border=0 borderColor=#111111 cellPadding=5 cellSpacing=0 width=650>\n",
      "  <TBODY>\n",
      "  <TR>\n",
      "    <TD colSpan=2 width=\"35%\"><B><FONT face=Verdana size=4>Ensuring your \n",
      "      family's financial security is very important. Life Quote Savings makes \n",
      "      buying life insurance simple and affordable. We Provide FREE Access to The \n",
      "      Very Best Companies and The Lowest Rates.</FONT></B></TD></TR>\n",
      "  <TR>\n",
      "    <TD align=middle vAlign=top width=\"18%\">\n",
      "      <TABLE borderColor=#111111 width=\"100%\">\n",
      "        <TBODY>\n",
      "        <TR>\n",
      "          <TD style=\"PADDING-LEFT: 5px; PADDING-RIGHT: 5px\" width=\"100%\"><FONT \n",
      "            face=Verdana size=4><B>Life Quote Savings</B> is FAST, EASY and \n",
      "            SAVES you money! Let us help you get started with the best values in \n",
      "            the country on new coverage. You can SAVE hundreds or even thousands \n",
      "            of dollars by requesting a FREE quote from Lifequote Savings. Our \n",
      "            service will take you less than 5 minutes to complete. Shop and \n",
      "            compare. SAVE up to 70% on all types of Life insurance! \n",
      "</FONT></TD></TR>\n",
      "        <TR><BR><BR>\n",
      "          <TD height=50 style=\"PADDING-LEFT: 5px; PADDING-RIGHT: 5px\" \n",
      "          width=\"100%\">\n",
      "            <P align=center><B><FONT face=Verdana size=5><A \n",
      "            href=\"http://website.e365.cc/savequote/\">Click Here For Your \n",
      "            Free Quote!</A></FONT></B></P></TD>\n",
      "          <P><FONT face=Verdana size=4><STRONG>\n",
      "          <CENTER>Protecting your family is the best investment you'll ever \n",
      "          make!<BR></B></TD></TR>\n",
      "        <TR><BR><BR></STRONG></FONT></TD></TR></TD></TR>\n",
      "        <TR></TR></TBODY></TABLE>\n",
      "      <P align=left><FONT face=\"Arial, Helvetica, sans-serif\" size=2></FONT></P>\n",
      "      <P></P>\n",
      "      <CENTER><BR><BR><BR>\n",
      "      <P></P>\n",
      "      <P align=left><BR></B><BR><BR><BR><BR></P>\n",
      "      <P align=center><BR></P>\n",
      "      <P align=left><BR></B><BR><BR></FONT>If you are in receipt of this email \n",
      "      in error and/or wish to be removed from our list, <A \n",
      "      href=\"mailto:coins@btamail.net.cn\">PLEASE CLICK HERE</A> AND TYPE REMOVE. If you \n",
      "      reside in any state which prohibits e-mail solicitations for insurance, \n",
      "      please disregard this \n",
      "      email.<BR></FONT><BR><BR><BR><BR><BR><BR><BR><BR><BR><BR><BR><BR><BR><BR><BR><BR></FONT></P></CENTER></CENTER></TR></TBODY></TABLE></CENTER></CENTER></CENTER></CENTER></CENTER></BODY></HTML>\n",
      "\n",
      "\n",
      "\n",
      "\n"
     ]
    }
   ],
   "source": [
    "print(df.iloc[0, 0].get_content())"
   ]
  },
  {
   "cell_type": "code",
   "execution_count": 6,
   "metadata": {},
   "outputs": [
    {
     "data": {
      "text/html": [
       "<div>\n",
       "<style scoped>\n",
       "    .dataframe tbody tr th:only-of-type {\n",
       "        vertical-align: middle;\n",
       "    }\n",
       "\n",
       "    .dataframe tbody tr th {\n",
       "        vertical-align: top;\n",
       "    }\n",
       "\n",
       "    .dataframe thead th {\n",
       "        text-align: right;\n",
       "    }\n",
       "</style>\n",
       "<table border=\"1\" class=\"dataframe\">\n",
       "  <thead>\n",
       "    <tr style=\"text-align: right;\">\n",
       "      <th></th>\n",
       "      <th>email</th>\n",
       "      <th>is_spam</th>\n",
       "    </tr>\n",
       "  </thead>\n",
       "  <tbody>\n",
       "    <tr>\n",
       "      <th>642</th>\n",
       "      <td>[Return-Path, Delivered-To, Received, Received...</td>\n",
       "      <td>0</td>\n",
       "    </tr>\n",
       "    <tr>\n",
       "      <th>700</th>\n",
       "      <td>[Return-Path, Delivered-To, Received, Received...</td>\n",
       "      <td>0</td>\n",
       "    </tr>\n",
       "    <tr>\n",
       "      <th>226</th>\n",
       "      <td>[Return-Path, Delivered-To, Received, Received...</td>\n",
       "      <td>1</td>\n",
       "    </tr>\n",
       "    <tr>\n",
       "      <th>1697</th>\n",
       "      <td>[Return-Path, Delivered-To, Received, Received...</td>\n",
       "      <td>0</td>\n",
       "    </tr>\n",
       "    <tr>\n",
       "      <th>1010</th>\n",
       "      <td>[Return-Path, Delivered-To, Received, Received...</td>\n",
       "      <td>0</td>\n",
       "    </tr>\n",
       "    <tr>\n",
       "      <th>...</th>\n",
       "      <td>...</td>\n",
       "      <td>...</td>\n",
       "    </tr>\n",
       "    <tr>\n",
       "      <th>1638</th>\n",
       "      <td>[Return-Path, Delivered-To, Received, Received...</td>\n",
       "      <td>0</td>\n",
       "    </tr>\n",
       "    <tr>\n",
       "      <th>1095</th>\n",
       "      <td>[Return-Path, Delivered-To, Received, Received...</td>\n",
       "      <td>0</td>\n",
       "    </tr>\n",
       "    <tr>\n",
       "      <th>1130</th>\n",
       "      <td>[Return-Path, Delivered-To, Received, Received...</td>\n",
       "      <td>0</td>\n",
       "    </tr>\n",
       "    <tr>\n",
       "      <th>1294</th>\n",
       "      <td>[Return-Path, Delivered-To, Received, Received...</td>\n",
       "      <td>0</td>\n",
       "    </tr>\n",
       "    <tr>\n",
       "      <th>860</th>\n",
       "      <td>[Return-Path, Delivered-To, Received, Received...</td>\n",
       "      <td>0</td>\n",
       "    </tr>\n",
       "  </tbody>\n",
       "</table>\n",
       "<p>2400 rows × 2 columns</p>\n",
       "</div>"
      ],
      "text/plain": [
       "                                                  email  is_spam\n",
       "642   [Return-Path, Delivered-To, Received, Received...        0\n",
       "700   [Return-Path, Delivered-To, Received, Received...        0\n",
       "226   [Return-Path, Delivered-To, Received, Received...        1\n",
       "1697  [Return-Path, Delivered-To, Received, Received...        0\n",
       "1010  [Return-Path, Delivered-To, Received, Received...        0\n",
       "...                                                 ...      ...\n",
       "1638  [Return-Path, Delivered-To, Received, Received...        0\n",
       "1095  [Return-Path, Delivered-To, Received, Received...        0\n",
       "1130  [Return-Path, Delivered-To, Received, Received...        0\n",
       "1294  [Return-Path, Delivered-To, Received, Received...        0\n",
       "860   [Return-Path, Delivered-To, Received, Received...        0\n",
       "\n",
       "[2400 rows x 2 columns]"
      ]
     },
     "execution_count": 6,
     "metadata": {},
     "output_type": "execute_result"
    }
   ],
   "source": [
    "from sklearn.model_selection import train_test_split\n",
    "\n",
    "train_df, test_df = train_test_split(df, test_size=0.2, shuffle=True, random_state=42)\n",
    "train_df"
   ]
  },
  {
   "cell_type": "code",
   "execution_count": 7,
   "metadata": {},
   "outputs": [],
   "source": [
    "spam_e = train_df.loc[train_df[\"is_spam\"] == 1, \"email\"].iloc[0]\n",
    "safe_e = train_df.loc[train_df[\"is_spam\"] == 0, \"email\"].iloc[0]"
   ]
  },
  {
   "cell_type": "code",
   "execution_count": 8,
   "metadata": {},
   "outputs": [
    {
     "data": {
      "text/html": [
       "<div>\n",
       "<style scoped>\n",
       "    .dataframe tbody tr th:only-of-type {\n",
       "        vertical-align: middle;\n",
       "    }\n",
       "\n",
       "    .dataframe tbody tr th {\n",
       "        vertical-align: top;\n",
       "    }\n",
       "\n",
       "    .dataframe thead th {\n",
       "        text-align: right;\n",
       "    }\n",
       "</style>\n",
       "<table border=\"1\" class=\"dataframe\">\n",
       "  <thead>\n",
       "    <tr style=\"text-align: right;\">\n",
       "      <th></th>\n",
       "      <th>key</th>\n",
       "      <th>spam</th>\n",
       "      <th>safe</th>\n",
       "    </tr>\n",
       "  </thead>\n",
       "  <tbody>\n",
       "    <tr>\n",
       "      <th>0</th>\n",
       "      <td>Content-Transfer-Encoding</td>\n",
       "      <td>8bit</td>\n",
       "      <td>None</td>\n",
       "    </tr>\n",
       "    <tr>\n",
       "      <th>1</th>\n",
       "      <td>Content-Type</td>\n",
       "      <td>text/plain; charset=\"us-ascii\"</td>\n",
       "      <td>text/plain; encoding=\"utf-8\"</td>\n",
       "    </tr>\n",
       "    <tr>\n",
       "      <th>2</th>\n",
       "      <td>Date</td>\n",
       "      <td>Wed, 04 Sep 2002 20:20:31 +0100</td>\n",
       "      <td>Tue, 08 Oct 2002 08:01:04 -0000</td>\n",
       "    </tr>\n",
       "    <tr>\n",
       "      <th>3</th>\n",
       "      <td>Delivered-To</td>\n",
       "      <td>zzzz@localhost.spamassassin.taint.org</td>\n",
       "      <td>zzzz@localhost.spamassassin.taint.org</td>\n",
       "    </tr>\n",
       "    <tr>\n",
       "      <th>4</th>\n",
       "      <td>Errors-To</td>\n",
       "      <td>social-admin@linux.ie</td>\n",
       "      <td>None</td>\n",
       "    </tr>\n",
       "    <tr>\n",
       "      <th>5</th>\n",
       "      <td>From</td>\n",
       "      <td>\"MRS. M. SESE SEKO\" &lt;maseko_h3@37.com&gt;</td>\n",
       "      <td>guardian &lt;rssfeeds@spamassassin.taint.org&gt;</td>\n",
       "    </tr>\n",
       "    <tr>\n",
       "      <th>6</th>\n",
       "      <td>List-Id</td>\n",
       "      <td>Irish Linux Users' Group social events &lt;social...</td>\n",
       "      <td>None</td>\n",
       "    </tr>\n",
       "    <tr>\n",
       "      <th>7</th>\n",
       "      <td>MIME-Version</td>\n",
       "      <td>1.0</td>\n",
       "      <td>None</td>\n",
       "    </tr>\n",
       "    <tr>\n",
       "      <th>8</th>\n",
       "      <td>Message-Id</td>\n",
       "      <td>&lt;200209051817.TAA02651@lugh.tuatha.org&gt;</td>\n",
       "      <td>&lt;200210080801.g98814K06118@dogma.slashnull.org&gt;</td>\n",
       "    </tr>\n",
       "    <tr>\n",
       "      <th>9</th>\n",
       "      <td>Precedence</td>\n",
       "      <td>bulk</td>\n",
       "      <td>None</td>\n",
       "    </tr>\n",
       "    <tr>\n",
       "      <th>10</th>\n",
       "      <td>Received</td>\n",
       "      <td>from localhost (jalapeno [127.0.0.1])\\tby zzzz...</td>\n",
       "      <td>from localhost (jalapeno [127.0.0.1])\\tby spam...</td>\n",
       "    </tr>\n",
       "    <tr>\n",
       "      <th>11</th>\n",
       "      <td>Reply-To</td>\n",
       "      <td>maseko_h3@37.com</td>\n",
       "      <td>None</td>\n",
       "    </tr>\n",
       "    <tr>\n",
       "      <th>12</th>\n",
       "      <td>Return-Path</td>\n",
       "      <td>&lt;social-admin@linux.ie&gt;</td>\n",
       "      <td>&lt;rssfeeds@spamassassin.taint.org&gt;</td>\n",
       "    </tr>\n",
       "    <tr>\n",
       "      <th>13</th>\n",
       "      <td>Sender</td>\n",
       "      <td>social-admin@linux.ie</td>\n",
       "      <td>None</td>\n",
       "    </tr>\n",
       "    <tr>\n",
       "      <th>14</th>\n",
       "      <td>Subject</td>\n",
       "      <td>[ILUG-Social] URGENT ASSISTANT NEEDED</td>\n",
       "      <td>Police pay damages to journalist</td>\n",
       "    </tr>\n",
       "    <tr>\n",
       "      <th>15</th>\n",
       "      <td>To</td>\n",
       "      <td>social@linux.ie</td>\n",
       "      <td>zzzz@spamassassin.taint.org</td>\n",
       "    </tr>\n",
       "    <tr>\n",
       "      <th>16</th>\n",
       "      <td>X-Authentication-Warning</td>\n",
       "      <td>lugh.tuatha.org: Host [212.100.65.236] claimed...</td>\n",
       "      <td>None</td>\n",
       "    </tr>\n",
       "    <tr>\n",
       "      <th>17</th>\n",
       "      <td>X-Beenthere</td>\n",
       "      <td>social@linux.ie</td>\n",
       "      <td>None</td>\n",
       "    </tr>\n",
       "    <tr>\n",
       "      <th>18</th>\n",
       "      <td>X-MIME-Autoconverted</td>\n",
       "      <td>from quoted-printable to 8bit by lugh.tuatha.o...</td>\n",
       "      <td>None</td>\n",
       "    </tr>\n",
       "    <tr>\n",
       "      <th>19</th>\n",
       "      <td>X-Mailer</td>\n",
       "      <td>Microsoft Outlook Express 5.00.2919.6900DM</td>\n",
       "      <td>None</td>\n",
       "    </tr>\n",
       "    <tr>\n",
       "      <th>20</th>\n",
       "      <td>X-Mailman-Version</td>\n",
       "      <td>1.1</td>\n",
       "      <td>None</td>\n",
       "    </tr>\n",
       "  </tbody>\n",
       "</table>\n",
       "</div>"
      ],
      "text/plain": [
       "                          key  \\\n",
       "0   Content-Transfer-Encoding   \n",
       "1                Content-Type   \n",
       "2                        Date   \n",
       "3                Delivered-To   \n",
       "4                   Errors-To   \n",
       "5                        From   \n",
       "6                     List-Id   \n",
       "7                MIME-Version   \n",
       "8                  Message-Id   \n",
       "9                  Precedence   \n",
       "10                   Received   \n",
       "11                   Reply-To   \n",
       "12                Return-Path   \n",
       "13                     Sender   \n",
       "14                    Subject   \n",
       "15                         To   \n",
       "16   X-Authentication-Warning   \n",
       "17                X-Beenthere   \n",
       "18       X-MIME-Autoconverted   \n",
       "19                   X-Mailer   \n",
       "20          X-Mailman-Version   \n",
       "\n",
       "                                                 spam  \\\n",
       "0                                                8bit   \n",
       "1                      text/plain; charset=\"us-ascii\"   \n",
       "2                     Wed, 04 Sep 2002 20:20:31 +0100   \n",
       "3               zzzz@localhost.spamassassin.taint.org   \n",
       "4                               social-admin@linux.ie   \n",
       "5              \"MRS. M. SESE SEKO\" <maseko_h3@37.com>   \n",
       "6   Irish Linux Users' Group social events <social...   \n",
       "7                                                 1.0   \n",
       "8             <200209051817.TAA02651@lugh.tuatha.org>   \n",
       "9                                                bulk   \n",
       "10  from localhost (jalapeno [127.0.0.1])\\tby zzzz...   \n",
       "11                                   maseko_h3@37.com   \n",
       "12                            <social-admin@linux.ie>   \n",
       "13                              social-admin@linux.ie   \n",
       "14              [ILUG-Social] URGENT ASSISTANT NEEDED   \n",
       "15                                    social@linux.ie   \n",
       "16  lugh.tuatha.org: Host [212.100.65.236] claimed...   \n",
       "17                                    social@linux.ie   \n",
       "18  from quoted-printable to 8bit by lugh.tuatha.o...   \n",
       "19         Microsoft Outlook Express 5.00.2919.6900DM   \n",
       "20                                                1.1   \n",
       "\n",
       "                                                 safe  \n",
       "0                                                None  \n",
       "1                        text/plain; encoding=\"utf-8\"  \n",
       "2                     Tue, 08 Oct 2002 08:01:04 -0000  \n",
       "3               zzzz@localhost.spamassassin.taint.org  \n",
       "4                                                None  \n",
       "5          guardian <rssfeeds@spamassassin.taint.org>  \n",
       "6                                                None  \n",
       "7                                                None  \n",
       "8     <200210080801.g98814K06118@dogma.slashnull.org>  \n",
       "9                                                None  \n",
       "10  from localhost (jalapeno [127.0.0.1])\\tby spam...  \n",
       "11                                               None  \n",
       "12                  <rssfeeds@spamassassin.taint.org>  \n",
       "13                                               None  \n",
       "14                   Police pay damages to journalist  \n",
       "15                        zzzz@spamassassin.taint.org  \n",
       "16                                               None  \n",
       "17                                               None  \n",
       "18                                               None  \n",
       "19                                               None  \n",
       "20                                               None  "
      ]
     },
     "execution_count": 8,
     "metadata": {},
     "output_type": "execute_result"
    }
   ],
   "source": [
    "# Explore data...\n",
    "keys = sorted(set(list(spam_e.keys()) + list(safe_e.keys())))\n",
    "view_dict = {\"key\": [], \"spam\": [], \"safe\": []}\n",
    "for k in keys:\n",
    "    view_dict[\"key\"].append(k)\n",
    "    view_dict[\"spam\"].append(spam_e.get(k, \"None\"))\n",
    "    view_dict[\"safe\"].append(safe_e.get(k, \"None\"))\n",
    "pd.set_option(\"display.max_rows\", None)\n",
    "pd.DataFrame(view_dict)"
   ]
  },
  {
   "cell_type": "code",
   "execution_count": 9,
   "metadata": {},
   "outputs": [
    {
     "name": "stdout",
     "output_type": "stream",
     "text": [
      "[('Date', 2400), ('From', 2400), ('Subject', 2400), ('Return-Path', 2394), ('Received', 2293), ('To', 2278), ('Delivered-To', 2271), ('Message-Id', 2233), ('Content-Type', 2059), ('MIME-Version', 1482), ('Precedence', 1422), ('List-Unsubscribe', 1296), ('Sender', 1290), ('List-Id', 1250), ('Errors-To', 1231), ('X-Beenthere', 1225), ('X-Mailman-Version', 1225), ('List-Subscribe', 1190), ('List-Help', 1188), ('List-Post', 1184), ('List-Archive', 1149), ('Content-Transfer-Encoding', 912), ('X-Mailer', 860), ('In-Reply-To', 821), ('Reply-To', 726)]\n"
     ]
    }
   ],
   "source": [
    "# Let's get a list of the most common message header field names\n",
    "from collections import Counter\n",
    "\n",
    "d = Counter()\n",
    "for e in train_df[\"email\"].tolist():\n",
    "    #     print(list(e.keys()))\n",
    "    d.update(set(e.keys()))\n",
    "print(d.most_common(25))"
   ]
  },
  {
   "cell_type": "markdown",
   "metadata": {},
   "source": [
    "### We're going to write a pipeline that does the following:\n",
    "* Gets text content (either plain text or html) \n",
    "* Convert to lowercase\n",
    "* Remove punctuation\n",
    "* Replace URLs with URL\n",
    "* Replace NUMBERs with NUMBER\n",
    "* Perform stemming\n",
    "* Perform TfidfTransformer\n",
    "* Extract the following header values as independent features:\n",
    "  * \"Content-Transfer-Encoding\"\n",
    "  * \"Content-Type\"\n",
    "  * \"Errors-To\"\n",
    "  * \"List-Id\"\n",
    "  * \"Subject\"\n",
    "  * \"MIME-Version\"\n",
    "  * \"Precedence\"\n",
    "  * \"List-Unsubscribe\"\n",
    "  * \"From\"\n",
    "  * is_attachment\n",
    "  * is_multipart\n",
    "  * content_type"
   ]
  },
  {
   "cell_type": "code",
   "execution_count": 10,
   "metadata": {
    "scrolled": false
   },
   "outputs": [],
   "source": [
    "import string\n",
    "from bs4 import BeautifulSoup as bs\n",
    "from sklearn.base import BaseEstimator, TransformerMixin\n",
    "from urlextract import URLExtract\n",
    "from nltk.stem.porter import PorterStemmer\n",
    "import numpy as np\n",
    "import re\n",
    "import random\n",
    "\n",
    "url_extractor = URLExtract()\n",
    "stemmer = PorterStemmer()\n",
    "\n",
    "\n",
    "class EmailTransformToText(BaseEstimator, TransformerMixin):\n",
    "    def __init__(\n",
    "        self,\n",
    "        strip=True,\n",
    "        lower=True,\n",
    "        remove_punc=True,\n",
    "        replace_urls=True,\n",
    "        replace_nums=True,\n",
    "        stem=True,\n",
    "        convert_html_to_text=True,\n",
    "    ):\n",
    "        self.strip = strip\n",
    "        self.lower = lower\n",
    "        self.remove_punc = remove_punc\n",
    "        self.replace_urls = replace_urls\n",
    "        self.replace_nums = replace_nums\n",
    "        self.stem = stem\n",
    "        self.convert_html_to_text = convert_html_to_text\n",
    "\n",
    "    def fit(self, X, y=None):\n",
    "        return self\n",
    "\n",
    "    def transform(self, X, y=None):\n",
    "        new_X = []\n",
    "        for e in X:\n",
    "            txt = self.retrieve_email_text(e)\n",
    "            if self.replace_urls:\n",
    "                urls = list(set(url_extractor.find_urls(txt)))\n",
    "                urls.sort(key=lambda url: len(url), reverse=True)\n",
    "                for url in urls:\n",
    "                    txt = txt.replace(url, \" URL \")\n",
    "            if self.replace_nums:\n",
    "                txt = re.sub(r\"\\d+(?:\\.\\d*)?(?:[eE][+-]?\\d+)?\", \" NUMBER \", txt)\n",
    "            if self.convert_html_to_text:\n",
    "                txt = bs(txt).text\n",
    "            if self.lower:\n",
    "                txt = txt.lower()\n",
    "            if self.remove_punc:\n",
    "                txt = txt.translate(str.maketrans(\"\", \"\", string.punctuation))\n",
    "            if self.strip:\n",
    "                # Also removes punctuation completely\n",
    "                txt = re.sub(r\"\\W+\", \" \", txt, flags=re.M)\n",
    "            if self.stem:\n",
    "                # s.stem(\"Goosebumps in a zoo are golden potatoes chaotic beauties will stumbles computers\")\n",
    "                # Out[24]: 'goosebumps in a zoo are golden potatoes chaotic beauties will stumbles comput'\n",
    "                txt = stemmer.stem(txt)\n",
    "            if self.strip:\n",
    "                txt = txt.strip()\n",
    "            new_X.append(txt)\n",
    "        return np.array(new_X)\n",
    "\n",
    "    @staticmethod\n",
    "    def retrieve_email_text(e) -> str:\n",
    "        for part in e.walk():\n",
    "            ct = part.get_content_type()\n",
    "            if ct in {\"text/plain\", \"text/html\"}:\n",
    "                try:\n",
    "                    return part.get_content()\n",
    "                except LookupError:\n",
    "                    pass\n",
    "        return e.get_payload()\n",
    "\n",
    "\n",
    "# Just a test\n",
    "# for email in train_df[\"email\"].tolist():\n",
    "#     txt = retrieve_email_text(email)\n",
    "#     if not isinstance(txt, str):\n",
    "#         raise ValueError"
   ]
  },
  {
   "cell_type": "code",
   "execution_count": 11,
   "metadata": {},
   "outputs": [
    {
     "data": {
      "text/plain": [
       "array(['im using simple dns from jhsoft we support only a few web sites and id like to swap secondary services with someone in a similar position we have a static ip dsl line and a number number set of web sql mail and now a dns server as i said we are hosting about number web sites web and dns traffic is almost nothing everything is on lightly loaded apc battery backups so we are very seldom down id like to swap with someone also using simple dns to take advantage of the trusted zone file transfer option bob musser database services inc makers of process servers toolbox courier service toolbox bobmdbsinfocom url number longhorn road winter park fl number number number number'],\n",
       "      dtype='<U676')"
      ]
     },
     "execution_count": 11,
     "metadata": {},
     "output_type": "execute_result"
    }
   ],
   "source": [
    "et = EmailTransformToText()\n",
    "et.fit_transform([train_df[\"email\"].tolist()[random.randint(0, 500)]])"
   ]
  },
  {
   "cell_type": "code",
   "execution_count": 12,
   "metadata": {
    "scrolled": false
   },
   "outputs": [
    {
     "data": {
      "text/plain": [
       "(500, 300)"
      ]
     },
     "execution_count": 12,
     "metadata": {},
     "output_type": "execute_result"
    }
   ],
   "source": [
    "from sklearn.feature_extraction.text import TfidfVectorizer\n",
    "\n",
    "samp = et.fit_transform(train_df[\"email\"].head(500).values)\n",
    "vectorizer = TfidfVectorizer(max_features=300)\n",
    "vectorizer.fit_transform(samp).toarray().shape"
   ]
  },
  {
   "cell_type": "code",
   "execution_count": 13,
   "metadata": {},
   "outputs": [
    {
     "data": {
      "text/plain": [
       "TfidfVectorizer(max_features=300)"
      ]
     },
     "execution_count": 13,
     "metadata": {},
     "output_type": "execute_result"
    }
   ],
   "source": [
    "vectorizer"
   ]
  },
  {
   "cell_type": "code",
   "execution_count": 20,
   "metadata": {},
   "outputs": [],
   "source": [
    "# Let's just put each one of these features into our training data\n",
    "from sklearn_pandas import DataFrameMapper\n",
    "from sklearn.preprocessing import FunctionTransformer\n",
    "\n",
    "header_attrs = [\n",
    "    \"Content-Transfer-Encoding\",\n",
    "    \"Content-Type\",\n",
    "    \"Errors-To\",\n",
    "    \"List-Id\",\n",
    "    \"Subject\",\n",
    "    \"MIME-Version\",\n",
    "    \"Precedence\",\n",
    "    \"List-Unsubscribe\",\n",
    "    \"From\",\n",
    "]\n",
    "\n",
    "\n",
    "def ind_expander(arr, keys=None):\n",
    "    if keys is None:\n",
    "        keys = header_attrs\n",
    "    e = arr[0]\n",
    "    v = []\n",
    "    for k in keys:\n",
    "        val = e.get(k, failobj=np.nan)\n",
    "        if isinstance(val, str):\n",
    "            val = val.lower()\n",
    "        v.append(val)\n",
    "    v.append(e.is_multipart())\n",
    "    v.append(e.get_content_type().lower())\n",
    "    return np.array(v)\n",
    "\n",
    "\n",
    "def expander(arr):\n",
    "    return np.apply_along_axis(ind_expander, 1, arr)\n",
    "\n",
    "\n",
    "mapper = DataFrameMapper(\n",
    "    [\n",
    "        (\"is_spam\", None),\n",
    "        ([\"email\"], FunctionTransformer(expander)),\n",
    "    ],\n",
    "    df_out=True,\n",
    ")\n",
    "prep_train_df = mapper.fit_transform(train_df)\n",
    "prep_train_df.columns = [\"is_spam\"] + header_attrs + [\"is_multipart\", \"content_type\"]"
   ]
  },
  {
   "cell_type": "code",
   "execution_count": 21,
   "metadata": {},
   "outputs": [
    {
     "name": "stdout",
     "output_type": "stream",
     "text": [
      "nan                 1487\n",
      "7bit                 636\n",
      "8bit                 219\n",
      "quoted-printable      55\n",
      "Name: Content-Transfer-Encoding, dtype: int64\n",
      "text/plain; charset=\"us-ascii\"                727\n",
      "text/plain; encoding=\"utf-8\"                  508\n",
      "nan                                           338\n",
      "text/plain; charset=\"iso-8859-1\"              250\n",
      "text/plain; charset=\"us-ascii\"; format=\"fl    127\n",
      "text/html; charset=\"iso-8859-1\"                84\n",
      "text/plain                                     50\n",
      "text/plain; charset=\"windows-1252\"             35\n",
      "multipart/alternative; boundary=\"----=_nex     29\n",
      "text/html; charset=\"us-ascii\"                  27\n",
      "multipart/signed; micalg=\"pgp-sha1\"; proto     22\n",
      "multipart/mixed; boundary=\"----=_nextpart_     21\n",
      "text/html                                      18\n",
      "text/plain; charset=\"iso-8859-15\"              17\n",
      "text/plain; format=\"flowed\"                    17\n",
      "text/plain; charset=\"iso-8859-1\"; format=\"     17\n",
      "Name: Content-Type, dtype: int64\n",
      "nan                                           1169\n",
      "fork-admin@xent.com                            528\n",
      "rpm-zzzlist-admin@freshrpms.net                184\n",
      "ilug-admin@linux.ie                            112\n",
      "spamassassin-talk-admin@example.sourceforg     102\n",
      "exmh-users-admin@spamassassin.taint.org         76\n",
      "exmh-workers-admin@spamassassin.taint.org       69\n",
      "razor-users-admin@example.sourceforge.net       65\n",
      "spamassassin-devel-admin@example.sourcefor      39\n",
      "social-admin@linux.ie                           12\n",
      "spamassassin-commits-admin@example.sourcef      12\n",
      "Name: Errors-To, dtype: int64\n",
      "nan                                           1146\n",
      "friends of rohit khare <fork.xent.com>         528\n",
      "freshrpms rpm discussion list <rpm-zzzlist     184\n",
      "irish linux users' group <ilug.linux.ie>       112\n",
      "talk about spamassassin <spamassassin-talk     104\n",
      "discussion list for exmh users <exmh-users      76\n",
      "discussion list for exmh developers <exmh-      69\n",
      "<razor-users.example.sourceforge.net>           65\n",
      "spamassassin developers <spamassassin-deve      39\n",
      "<secprog.list-id.securityfocus.com>             25\n",
      "<spamassassin-commits.example.sourceforge.      13\n",
      "irish linux users' group social events <so      12\n",
      "Name: List-Id, dtype: int64\n",
      "[spambayes] test sets?                        23\n",
      "re: selling wedded bliss (was re: ouch...)    22\n",
      "re: java is for kiddies                       20\n",
      "[spambayes] deployment                        19\n",
      "re: new sequences window                      17\n",
      "re: sorting                                   17\n",
      "re: sed /s/united states/roman empire/g       17\n",
      "re: hanson's sept 11 message in the nation    15\n",
      "re: alsa (almost) made easy                   15\n",
      "re: [satalk] o.t. habeus -- why?              14\n",
      "re: goodbye global warming                    14\n",
      "re: bad focus/click behaviours                13\n",
      "re[2]: selling wedded bliss (was re: ouch.    12\n",
      "re: secure sofware key                        11\n",
      "re: use new apt to do null to rh8 upgrade?    11\n",
      "Name: Subject, dtype: int64\n",
      "1.0                                   1482\n",
      "nan                                    877\n",
      "1.0 (apple message framework v482)      27\n",
      "1.0 (apple message framework v546)      11\n",
      "Name: MIME-Version, dtype: int64\n",
      "bulk    1360\n",
      "nan      978\n",
      "list      61\n",
      "Name: Precedence, dtype: int64\n",
      "nan                                           1104\n",
      "<http://xent.com/mailman/listinfo/fork>,       528\n",
      "<https://example.sourceforge.net/lists/lis     229\n",
      "<http://lists.freshrpms.net/mailman/listin     184\n",
      "<https://listman.spamassassin.taint.org/ma     145\n",
      "<mailto:zzzzteana-unsubscribe@yahoogroups.     105\n",
      "<http://www.linux.ie/mailman/listinfo/ilug      35\n",
      "<mailto:secprog-unsubscribe@securityfocus.      25\n",
      "<mailto:0xdeadbeef-request@petting-zoo.net      14\n",
      "Name: List-Unsubscribe, dtype: int64\n",
      "boingboing <rssfeeds@spamassassin.taint.or    88\n",
      "guardian <rssfeeds@spamassassin.taint.org>    79\n",
      "newscientist <rssfeeds@spamassassin.taint.    61\n",
      "fark <rssfeeds@spamassassin.taint.org>        56\n",
      "gamasutra <rssfeeds@spamassassin.taint.org    50\n",
      "                                              ..\n",
      " angles  puglisi <angles@aminvestments.com    11\n",
      "\"joseph s. barrera iii\" <joe@barrera.org>     11\n",
      "eirikur hallgrimsson <eh@mad.scientist.com    11\n",
      "ville skyttä <ville.skytta@iki.fi>            11\n",
      "dave long <dl@silcom.com>                     10\n",
      "Name: From, Length: 49, dtype: int64\n",
      "False    2245\n",
      "True      155\n",
      "Name: is_multipart, dtype: int64\n",
      "text/plain               2108\n",
      "text/html                 136\n",
      "multipart/signed           61\n",
      "multipart/alternative      45\n",
      "multipart/mixed            38\n",
      "multipart/related          10\n",
      "Name: content_type, dtype: int64\n"
     ]
    }
   ],
   "source": [
    "for col in prep_train_df.columns:\n",
    "    if col in [\"is_spam\", \"email\"]:\n",
    "        continue\n",
    "    vc = pd.value_counts(prep_train_df[col], dropna=False)\n",
    "    vc = vc.loc[vc >= 10]\n",
    "    print(vc)"
   ]
  },
  {
   "cell_type": "code",
   "execution_count": 97,
   "metadata": {},
   "outputs": [
    {
     "name": "stdout",
     "output_type": "stream",
     "text": [
      "(2400, 583) (2400,)\n"
     ]
    }
   ],
   "source": [
    "from sklearn.pipeline import Pipeline, FeatureUnion\n",
    "from sklearn.feature_extraction.text import CountVectorizer\n",
    "\n",
    "pd.set_option(\"display.max_rows\", None)\n",
    "\n",
    "\n",
    "class EmailHeaderTransformer(BaseEstimator, TransformerMixin):\n",
    "    def __init__(self):\n",
    "        pass\n",
    "\n",
    "    def fit(self, X, y=None):\n",
    "        return self\n",
    "\n",
    "    def transform(self, X, y=None):\n",
    "        out = expander(X.reshape((-1, 1)))\n",
    "        return out\n",
    "\n",
    "\n",
    "class HeaderArrayEncoder(BaseEstimator, TransformerMixin):\n",
    "    def __init__(self, header_count=10):\n",
    "        self.header_count = header_count\n",
    "        self.counter = dict()\n",
    "\n",
    "    def fit(self, X, y=None):\n",
    "        df = pd.DataFrame(\n",
    "            columns=header_attrs + [\"is_multipart\", \"content_type\"], data=X\n",
    "        )\n",
    "        for col in df.columns:\n",
    "            self.counter.update({col: Counter()})\n",
    "            self.counter[col].update(df[col].tolist())\n",
    "        exceeding_counts = dict()\n",
    "        for col in df.columns:\n",
    "            c = self.counter[col]\n",
    "            exceeding_counts[col] = Counter(dict(c.most_common(9)))\n",
    "            c = exceeding_counts[col]\n",
    "            exceeding_counts[col] = Counter(\n",
    "                i for i in c.elements() if c[i] >= self.header_count\n",
    "            )\n",
    "\n",
    "        self.counter = exceeding_counts\n",
    "        return self\n",
    "\n",
    "    def transform(self, X, y=None):\n",
    "        if not self.counter:\n",
    "            raise ValueError(\"Need counter to be initialized.\")\n",
    "        df = pd.DataFrame(\n",
    "            columns=header_attrs + [\"is_multipart\", \"content_type\"], data=X\n",
    "        )\n",
    "        for col in df.columns:\n",
    "            c = self.counter[col]\n",
    "            df.loc[~df[col].isin(c.keys()), col] = \"other\"\n",
    "        return df.values\n",
    "\n",
    "\n",
    "def full_pipeline(header_count=10, tfid_max_features=100):\n",
    "\n",
    "    email_pipe = Pipeline(\n",
    "        [\n",
    "            (\"email_to_text\", EmailTransformToText()),\n",
    "            (\"text_to_vector\", CountVectorizer(max_features=tfid_max_features)),\n",
    "        ]\n",
    "    )\n",
    "\n",
    "    header_pipe = Pipeline(\n",
    "        [\n",
    "            (\"header_transformer\", EmailHeaderTransformer()),\n",
    "            (\"header_encoder\", HeaderArrayEncoder(header_count=header_count)),\n",
    "            (\"onehot_encoder\", OneHotEncoder()),\n",
    "        ],\n",
    "    )\n",
    "\n",
    "    full_pipe = FeatureUnion(\n",
    "        [\n",
    "            (\"email_pipe\", email_pipe),\n",
    "            (\"header_pipe\", header_pipe),\n",
    "        ]\n",
    "    )\n",
    "    return full_pipe\n",
    "\n",
    "\n",
    "pipe = full_pipeline(header_count=10, tfid_max_features=500)\n",
    "X = pipe.fit_transform(train_df[\"email\"].values)\n",
    "y = train_df[\"is_spam\"].values\n",
    "X_test = pipe.transform(test_df[\"email\"].values)\n",
    "y_test = test_df[\"is_spam\"].values\n",
    "print(X.shape, y.shape)"
   ]
  },
  {
   "cell_type": "code",
   "execution_count": 98,
   "metadata": {},
   "outputs": [
    {
     "name": "stdout",
     "output_type": "stream",
     "text": [
      "[0.99583333 1.         0.99166667 0.99166667 0.99166667 0.9875\n",
      " 0.9875     0.99583333 0.99583333 1.        ]\n",
      "0.99375\n",
      "Recall: 0.9661016949152542\n",
      "Precision: 0.991304347826087\n"
     ]
    }
   ],
   "source": [
    "from sklearn.metrics import recall_score, accuracy_score, precision_score\n",
    "from sklearn.linear_model import LogisticRegression\n",
    "from sklearn.model_selection import cross_val_score\n",
    "\n",
    "\n",
    "lr_clf = LogisticRegression(solver=\"lbfgs\", max_iter=10000, random_state=42)\n",
    "\n",
    "cv_scores = cross_val_score(lr_clf, X, y, cv=10, scoring=\"accuracy\")\n",
    "print(cv_scores)\n",
    "print(cv_scores.mean())\n",
    "\n",
    "lr_clf.fit(X, y)\n",
    "\n",
    "\n",
    "preds = lr_clf.predict(X_test)\n",
    "\n",
    "print(f\"Recall: {recall_score(y_test, preds)}\")\n",
    "print(f\"Precision: {precision_score(y_test, preds)}\")"
   ]
  },
  {
   "cell_type": "markdown",
   "metadata": {},
   "source": [
    "This is pretty good. One of the main differences between this and Geron's is that he includes the number of words that don't appear in the vocabulary... "
   ]
  },
  {
   "cell_type": "code",
   "execution_count": null,
   "metadata": {},
   "outputs": [],
   "source": []
  }
 ],
 "metadata": {
  "kernelspec": {
   "display_name": "venv",
   "language": "python",
   "name": "venv"
  },
  "language_info": {
   "codemirror_mode": {
    "name": "ipython",
    "version": 3
   },
   "file_extension": ".py",
   "mimetype": "text/x-python",
   "name": "python",
   "nbconvert_exporter": "python",
   "pygments_lexer": "ipython3",
   "version": "3.8.5"
  }
 },
 "nbformat": 4,
 "nbformat_minor": 4
}
