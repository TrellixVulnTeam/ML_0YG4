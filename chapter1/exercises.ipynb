{
 "cells": [
  {
   "cell_type": "markdown",
   "metadata": {},
   "source": [
    "---\n",
    "layout: exercises\n",
    "chapter: 1\n",
    "chapter-title: The Machine Learning Landscape\n",
    "permalink: /ml-book/chapter1/exercises.html\n",
    "---"
   ]
  },
  {
   "cell_type": "markdown",
   "metadata": {},
   "source": [
    "1. Machine learning is the process of enabling machines (i.e. computers) to solve problems without being explicitly programs. This is done by providing data and letting the machine \"decide\" the optimal solution to the problem (via some loss function).\n",
    "2. It shines when solutions exist to a problem but they are too complicated to explicitly program, when solutions don't actually exist to a problem, when you expect incoming data to change and you want a solution which is robust enough to adapt, and when you want to gain insight into the solution (i.e. dissect the blackbox).\n",
    "3. When you give the model the result (i.e. label) that you expect it to predict.\n",
    "4. Classification and a numerical prediction.\n",
    "5. Anomaly detection, dimensionality reduction, association rule learning, clustering.\n",
    "6. Reinforcement learning\n",
    "7. Clustering algorithm\n",
    "8. Spam is a supervised learning problem.\n",
    "9. When a model's parameters actively change on new data.\n",
    "10. When you use online learning because data can't fit into memory.\n",
    "11. Instance-based model\n",
    "12. The learning algorithm's hyperparameter stays constant throughout the training whereas the model parameter changes.\n",
    "13. They search for an equation or non-linear combination of outputs which gives an accurate prediction. They tune parameters by minimizing a utility function. To make predictions you input the new data into the model and it gives you a prediction.\n",
    "14. Overfitting, lousy data, underfitting, and not having a sufficient amount of data.\n",
    "15. Overfitting. Moar data, impose regularization, provide a more representative sample of training data.\n",
    "16. A test set gives some indication of the accuracy of the _production_ model (i.e. has never \"seen\" the incoming samples).\n",
    "17. The validation set allows you to tweak hyperparameters of the model while still maintaining the purity of the test set.\n",
    "18. The model may not generalize well when put in production since hyperparameters were fitted/chosen according to the test set. You'd probably see worse performance in production.\n",
    "19. I don't think cross validation was very well explained. You make a test/train split and instead of splitting the training data again into a validation/train split, you pass over all the data multiple times, each time using a different (non-overlapping) portion for validation. You can average the validation loss over all the iterations. In this way your model is trained on all the data in the train set, while still reaping the benefits of having a validation set (hyperparameter tuning). \n",
    "\n",
    "<img src=\"https://upload.wikimedia.org/wikipedia/commons/b/b5/K-fold_cross_validation_EN.svg\" style=\"background: white; margin-left: auto; margin-right: auto; display: block;\">"
   ]
  }
 ],
 "metadata": {
  "kernelspec": {
   "display_name": "venv",
   "language": "python",
   "name": "venv"
  },
  "language_info": {
   "codemirror_mode": {
    "name": "ipython",
    "version": 3
   },
   "file_extension": ".py",
   "mimetype": "text/x-python",
   "name": "python",
   "nbconvert_exporter": "python",
   "pygments_lexer": "ipython3",
   "version": "3.8.5"
  }
 },
 "nbformat": 4,
 "nbformat_minor": 4
}
