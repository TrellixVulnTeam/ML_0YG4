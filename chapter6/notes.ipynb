{
 "cells": [
  {
   "cell_type": "markdown",
   "metadata": {},
   "source": [
    "---\n",
    "layout: notes\n",
    "chapter: 6\n",
    "chapter-title: Decision Trees\n",
    "permalink: /ml-book/chapter6/notes.html\n",
    "---"
   ]
  },
  {
   "cell_type": "markdown",
   "metadata": {},
   "source": [
    "## Training and Visualizing a Decision\n",
    "* They're a fundamental components of Random Forests"
   ]
  },
  {
   "cell_type": "code",
   "execution_count": 1,
   "metadata": {},
   "outputs": [
    {
     "data": {
      "text/plain": [
       "DecisionTreeClassifier(max_depth=2)"
      ]
     },
     "execution_count": 1,
     "metadata": {},
     "output_type": "execute_result"
    }
   ],
   "source": [
    "from sklearn.datasets import load_iris\n",
    "from sklearn.tree import DecisionTreeClassifier\n",
    "\n",
    "iris = load_iris()\n",
    "X = iris.data[:, 2:]\n",
    "y = iris.target\n",
    "\n",
    "tree_clf = DecisionTreeClassifier(max_depth=2)\n",
    "tree_clf.fit(X, y)"
   ]
  },
  {
   "cell_type": "markdown",
   "metadata": {},
   "source": [
    "![image](https://user-images.githubusercontent.com/29719483/173128779-52b93dbc-fa77-4765-9f19-c20c8b3afaa4.png)\n"
   ]
  },
  {
   "cell_type": "markdown",
   "metadata": {},
   "source": [
    "## Making Predictions\n",
    "* As the diagram shows first it splits the dataset based on whether or not `petal length <= 2.45`\n",
    "  * If `True`, we reach the leaf node where the class is 100% setosa\n",
    "  * Else we continue the the next questions which further separates the based on the petal width\n",
    "* Decision Trees do not require feature scaling or centering at all\n",
    "* Scikit-learn uses the CART algorithm which is a binary tree, but other algorithms (e.g. ID3) can produce trees with 3+ leaves"
   ]
  },
  {
   "cell_type": "markdown",
   "metadata": {},
   "source": [
    "#### Gini Impurity\n",
    "* Gini Impurity is a measure of how impure the node is\n",
    "  * The impurity is zero when all training instances it applies to belong to the same class (e.g. Left most node above)\n",
    "\n",
    "$$G_i = 1 - \\sum_{k=1}^{n} p_{i,k}^2$$\n",
    "\n",
    "* $p_{i,k}$ is the ratio of the class k instances among the training instance in the ith node."
   ]
  },
  {
   "cell_type": "markdown",
   "metadata": {},
   "source": [
    "Here is the decision boundary created by the tree:\n",
    "\n",
    "![image](https://user-images.githubusercontent.com/29719483/173130302-13031246-b489-4d2d-a891-088bff582ae3.png)\n"
   ]
  },
  {
   "cell_type": "markdown",
   "metadata": {},
   "source": [
    "* Decision Trees are considered a white box model (as opposed to black box) because the it's easy to retrace why decisions were made by the model, whereas in neural network that is not as feasible"
   ]
  },
  {
   "cell_type": "markdown",
   "metadata": {},
   "source": [
    "## Estimating Class Probabilities\n",
    "* It assigns probabilities simply based on the fraction of instances for each class that showed up in the associated node in the training set"
   ]
  },
  {
   "cell_type": "code",
   "execution_count": 3,
   "metadata": {},
   "outputs": [
    {
     "name": "stdout",
     "output_type": "stream",
     "text": [
      "[[0.         0.90740741 0.09259259]]\n",
      "[1]\n"
     ]
    }
   ],
   "source": [
    "print(tree_clf.predict_proba([[5, 1.5]]))\n",
    "print(tree_clf.predict([[5, 1.5]]))"
   ]
  },
  {
   "cell_type": "markdown",
   "metadata": {},
   "source": [
    "## The CART Training Algorithm\n",
    "* The CART algorithm works as follows:\n",
    "  * At the root node pick a feature and a threshold for that feature which splits the dataset in half\n",
    "    * Pick the feature threshold combo which results in the purest subsets (weighted by their size)\n",
    "  * Continue recursively down the tree until some user defined stop condition is met (i.e. max_depth) or it cannot find an additional split which will reduce the impurity.\n",
    "* This is a Greedy algorithm in the sense that it starts with an optimal split, and continues to search for it at each level, but it doesn't consider the impurity of lower levels when making a decision for the current level\n",
    "* In general the optimal tree is NP-Complete $O(exp(m))$ and intractable, in general the CART algorithm produces a reasonably good solution\n",
    "\n",
    "## Computational Complexity\n",
    "* It's essential a binary search tree which is $O(log(m))$ to traverse for predictions\n",
    "* For training, since it compares all features on all samples at each node it is $O(n \\times log(m))$\n",
    "\n",
    "## Gini Impurity or Entropy?\n",
    "* Entropy is another impurity measure\n",
    "* A set's entropy is zero when it contains instances of only one class (which is also when gini is 0)\n",
    "\n",
    "$$H_i = - \\sum\\limits_{\\substack{k=1 \\\\ p_{i,k} \\neq 0}}^n p_{i,k} log(p_{i,k})$$\n",
    "\n",
    "* **Most of the time it doesn't matter which metric you use. Gini impurity is slightly faster to compute, so it's a good default. When they differ, Gini impurity tends to isolate the most frequent class in its own branch of the tree, while entropy tends to produce slightly more balanced trees.**\n",
    "\n",
    "## Regularization Hyperparameters\n",
    "* Decision trees left unconstrained are liable to overfit the training data\n",
    "* They are known as nonparametric models because their parameters are not pre-defined such as in a linear model\n",
    "* To prevent overfitting, we can use regularization to restrict the degrees of freedom of the decision tree\n",
    "* There are several regularization parameters to pick from\n",
    "* Increasing the `min` hyperparameters and reducing the `max` will regularize the model\n",
    "\n",
    "* Other algorithms work by creating an unrestricted tree and then pruning unnecessary nodes\n",
    "* Nodes are deemed unnecessary if the children of a node are both end leaves and the p-value dictates that the chances of that split are statiscally insignifcant\n",
    "\n",
    "![image](https://user-images.githubusercontent.com/29719483/173135440-072bd762-ae06-40d7-9c9c-d56455ecf987.png)\n",
    "\n",
    "## Regression\n",
    "* Find an x value that splits the training targets in half and continue splitting until stopping condition, the target value is the mean of the target value of the samples in that node.\n",
    "* I think this is kind of dumb... like when are results from this sort of regression going to be better... boundaries are only orthogonal\n",
    "\n",
    "![image](https://user-images.githubusercontent.com/29719483/173137358-b3b5849c-2ea4-4f87-976e-2c6ca0af64dd.png)\n",
    "\n",
    "## Instability\n",
    "* Only orthogonal decision boundary which makes them susceptible to rotations in the training data\n",
    "* Can use PCA to mitigate this issue\n",
    "* Very sensitive to small variations in the training data\n",
    "* Removing one sample from the Iris dataset results in a totally different tree, even without removing samples the resultant tree might be different just because of the stochastic nature of the Scikit-learn algorithm\n",
    "* Random Forests can limit this instability by averaging predictions over many trees"
   ]
  },
  {
   "cell_type": "code",
   "execution_count": null,
   "metadata": {},
   "outputs": [],
   "source": []
  }
 ],
 "metadata": {
  "kernelspec": {
   "display_name": "Python 3 (ipykernel)",
   "language": "python",
   "name": "python3"
  },
  "language_info": {
   "codemirror_mode": {
    "name": "ipython",
    "version": 3
   },
   "file_extension": ".py",
   "mimetype": "text/x-python",
   "name": "python",
   "nbconvert_exporter": "python",
   "pygments_lexer": "ipython3",
   "version": "3.8.10"
  }
 },
 "nbformat": 4,
 "nbformat_minor": 4
}
