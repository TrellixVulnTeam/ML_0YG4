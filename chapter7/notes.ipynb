{
 "cells": [
  {
   "cell_type": "markdown",
   "metadata": {},
   "source": [
    "---\n",
    "layout: notes\n",
    "chapter: 7\n",
    "chapter-title: Ensemble Learning and Random Forests\n",
    "permalink: /ml-book/chapter7/notes.html\n",
    "---"
   ]
  },
  {
   "cell_type": "markdown",
   "metadata": {},
   "source": [
    "* A group of predictors is called an ensemble\n",
    "* An ensemble of decision trees is known as a Random Forest\n",
    "* This so called wisdom of the crowd approach of combining multiple models into an ensemble (or even multi ensembles of models) account for some of the best solutions in Machine Learning\n",
    "* Popular ensemble methods include bagging, boosting, stacking, and more"
   ]
  },
  {
   "cell_type": "markdown",
   "metadata": {},
   "source": [
    "## Voting Classifiers\n",
    "* A voting classifier uses the predictions of multiple diverse predictors (models) and has each one vote and then picks the majority vote\n",
    "* This is called a hard voting classifier\n",
    "* You can achieve high accuracy from a bunch of weak learners\n",
    "* \"Suppose you build an ensemble containing 1,000 classifiers that are individually correct only 51% o the time (barely better than random guessing). If you predict the majority voted class, you can hope for up to 75% accuracy!\"\n",
    "* However in practice this is only true if the classifiers are all independent of one another, which isn't the case since they were all trained on the same data\n",
    "* Ensemble methods work best when the predictors are as independent from one another as possible (e.g. use different training algorithms). This will allow them to make different types of errors, increasing the models accuracy.\n",
    "* Soft voting is when you use predictors which have the `predict_proba` method (i.e. they predict probabilities). You pick the class with the highest class probability, averaged over all the individual classifiers. This is often more effective because it gives higher weight to higher confidence votes, whereas in hard voting they are all equally weighted (even though some individual models may be unconfident in the result).\n",
    "\n",
    "## Bagging and Pasting\n",
    "* Instead of using completely different algorithms to produce an ensemble model, another way to do so is to train the same algorithm on different random subsets of the training set\n",
    "* This technique is known as bagging and pasting\n",
    "* Bagging (short for bootstrap aggregating) is when you sample randomly from the training set with replacement\n",
    "* Pasting is when you sample randomly from the training set without replacement\n",
    "\n",
    "![image](https://miro.medium.com/max/503/1*z4GrjL9vVGv0PU9Fk1W8zw.png)\n",
    "\n",
    "* The statistical mode is used for aggregating votes\n",
    "* This aggregation reduces both bias and variance\n",
    "* Generally the ensemble has a similar bias, but a lower variance than a single predictor trained on the original training set\n",
    "* These methods scale very well"
   ]
  },
  {
   "cell_type": "markdown",
   "metadata": {},
   "source": [
    "### Bagging and Pasting in Scikit-Learn"
   ]
  },
  {
   "cell_type": "code",
   "execution_count": 1,
   "metadata": {},
   "outputs": [
    {
     "name": "stdout",
     "output_type": "stream",
     "text": [
      "Couldn't find program: 'echo'\n"
     ]
    }
   ],
   "source": [
    "%%script echo skipping\n",
    "# What this looks like:\n",
    "from sklearn.ensemble import BaggingClassifier\n",
    "from sklearn.tree import DecisionTreeClassifier\n",
    "\n",
    "bag_clf = BaggingClassifier(DecisionTreeClassifier(), n_estimators=500, max_samples=100, \n",
    "                            bootstrap=True, # False would be w/o replacement\n",
    "                           n_jobs=4)\n",
    "bag_clf.fit(X_train, y_train)\n",
    "y_pred = bag_clf.predict(X_test)"
   ]
  },
  {
   "cell_type": "markdown",
   "metadata": {},
   "source": [
    "* Bootstrapping introduces a bit more diversity in the subsets that each predictor is trained on\n",
    "  * Bagging ends up with a slightly higher bias than pasting, but thisalso means that predictors end up being less correlated so the ensemble's variance is reduced\n",
    "* Overall, bagging often results in better models, which explains why it is generally preferred\n",
    "* You can evalute both bagging and pasting if you have time"
   ]
  },
  {
   "cell_type": "markdown",
   "metadata": {},
   "source": [
    "### Out-of-Bag Evaluation\n",
    "* https://stats.stackexchange.com/questions/88980/why-on-average-does-each-bootstrap-sample-contain-roughly-two-thirds-of-observat\n",
    "* https://stats.stackexchange.com/questions/173520/random-forests-out-of-bag-sample-size\n",
    "* If you sample randomly with replacement it turns out that for each predictors about 37% of the samples will not be selected (for large enough number of samples m)\n",
    "* These unsampled samples are known as out-of-bag instances\n",
    "* Thus by performing validation on the oob instances and averaging across predictors we can get an estimate of the accuracy on the test set\n",
    "* So it serves as like a free validation set `oob_score=True`"
   ]
  },
  {
   "cell_type": "markdown",
   "metadata": {},
   "source": [
    "## Random Patches and Random Subspaces\n",
    "* Random Patches - Sampling both training instances and features\n",
    "* Random Subspaces - Keeping all training instances, but sampling features"
   ]
  },
  {
   "cell_type": "markdown",
   "metadata": {},
   "source": [
    "## Random Forests\n",
    "* Generally trained via bagging, typically with `max_samples` set to the size of the training set\n",
    "  * This means if your training set has M samples. Pick a random number between 1 and M. Select that sample. Pick another random sample in this way. Do that M times. As explained above, roughly 37% of the samples will not be selected.\n",
    "* You can wrap `DecisionTreeClassifier` in a `BaggingClassifier` or just use `RandomForestClassifier`, the hyperparameters are roughly the same\n",
    "\n",
    "### Extra Trees\n",
    "* When growing a random forest at each node only a subset of features is considered for splitting\n",
    "* Extremely Randomized Tree ensemble (AKA Extra Trees) - when instead of using the \"best\" (purest) threshold for each node, a tree building algorithm uses random thresholds for each feature\n",
    "* Extra Trees are much less costly to generate because it doesn't need to spend time calculating the loss of all the features at each node.\n",
    "* It's difficult to tell which will do better (`RandomForestClassifer` or `ExtraTreesClassifier`) a priori\n",
    "\n",
    "### Feature Importance\n",
    "* In a single Decision Tree important features are likely to appear near the root of the tree\n",
    "  * Recall that if at each node all features are analyzed to see which will be split the data, therefore if one feature will split the data better we should expect it to appear near the root\n",
    "* Scikit-learn keeps track of this in the `feature_importances_` variable\n",
    "* This is a huge bonus!"
   ]
  },
  {
   "cell_type": "code",
   "execution_count": 2,
   "metadata": {},
   "outputs": [
    {
     "name": "stdout",
     "output_type": "stream",
     "text": [
      "sepal length (cm) 0.09502930554425847\n",
      "sepal width (cm) 0.02551542797147774\n",
      "petal length (cm) 0.4460859005340553\n",
      "petal width (cm) 0.43336936595020864\n"
     ]
    }
   ],
   "source": [
    "from sklearn.datasets import load_iris\n",
    "from sklearn.ensemble import RandomForestClassifier\n",
    "iris = load_iris()\n",
    "rnd_clf = RandomForestClassifier(n_estimators=500, n_jobs=4)\n",
    "rnd_clf.fit(iris[\"data\"], iris[\"target\"])\n",
    "for name, score in zip(iris[\"feature_names\"], rnd_clf.feature_importances_):\n",
    "    print(name, score)"
   ]
  },
  {
   "cell_type": "markdown",
   "metadata": {},
   "source": [
    "## Boosting\n",
    "* Boosting or Hypothesis Boosting refers to any Ensemble method that can combine several weak learners into a strong learner\n",
    "* The general idea of most boosting methods is to train predictors sequentially, each trying to correct its predecessor\n",
    "* [XGBoost](https://xgboost.readthedocs.io/en/stable/) or [AdaBoost](https://scikit-learn.org/stable/modules/generated/sklearn.ensemble.AdaBoostClassifier.html)\n",
    "* The general idea of AdaBoost is to refit the training instances which were underfit by the predecessor\n",
    "* New predictions focus more and more on hard cases\n",
    "* Here's an example where the weights of missed classification instances are increased by each successive model:\n",
    "![image](https://user-images.githubusercontent.com/29719483/175429600-498410f5-56c6-464a-b0eb-ced02a57648b.png)\n",
    "* The traditional base estimator for Adaboost is a stump, which is a decision tree with just one node and two leaves\n",
    "* If AdaBoost is overfitting the training set, try reducing the number of estimators or more strongly regularizing the base estimator\n",
    "\n",
    "### Gradient Boosting\n",
    "* The difference between Adaboost and Gradient Boosting is that instead of increasing the weights of missed prediction in the predecessor estimator, gradient boosting tries to fit the residual errors of the predecessor\n",
    "* The code for gradient boosting is as follows"
   ]
  },
  {
   "cell_type": "code",
   "execution_count": 3,
   "metadata": {},
   "outputs": [
    {
     "name": "stdout",
     "output_type": "stream",
     "text": [
      "Couldn't find program: 'echo'\n"
     ]
    }
   ],
   "source": [
    "%%script echo skipping\n",
    "from sklearn.tree import DecisionTreeRegressor\n",
    "\n",
    "tree_reg1 = DecisionTreeRegressor(max_depth=2)\n",
    "tree_reg1.fit(X, y)\n",
    "y2 = y - tree_reg1.predict(X)\n",
    "tree_reg2 = DecisionTreeRegressor(max_depth=2)\n",
    "tree_reg2.fit(X, y2)\n",
    "y3 = y2 - tree_reg2.predict(X)\n",
    "tree_reg3 = DecisionTreeRegressor(max_depth=2)\n",
    "tree_reg3.fit(X, y3)\n",
    "# ...\n",
    "y_pred = sum(tree.predict(X_new) for tree in (tree_reg1, tree_reg2, tree_reg3))\n"
   ]
  },
  {
   "cell_type": "markdown",
   "metadata": {},
   "source": [
    "* A simpler way to train GBRT ensembles is to use `GradientBoostingRegressor`"
   ]
  },
  {
   "cell_type": "code",
   "execution_count": 4,
   "metadata": {},
   "outputs": [
    {
     "name": "stdout",
     "output_type": "stream",
     "text": [
      "Couldn't find program: 'echo'\n"
     ]
    }
   ],
   "source": [
    "%%script echo skipping\n",
    "# Equivalent to above example\n",
    "from sklearn.ensemble import GradientBoostingRegressor\n",
    "\n",
    "gbrt = GradientBoostingRegressor(max_depth=2, n_estimators=3, learning_rate=1.0)\n",
    "gbrt.fit(X, y)"
   ]
  },
  {
   "cell_type": "markdown",
   "metadata": {},
   "source": [
    "* How many tree should you have and what should be the learning rate?\n",
    "  * You can use early stopping to determine the hyper parameters which produce the best results on the validation set"
   ]
  },
  {
   "cell_type": "code",
   "execution_count": 5,
   "metadata": {},
   "outputs": [
    {
     "name": "stdout",
     "output_type": "stream",
     "text": [
      "Couldn't find program: 'echo'\n"
     ]
    }
   ],
   "source": [
    "%%script echo skipping\n",
    "import numpy as np\n",
    "from sklearn.model_selection import train_test_split\n",
    "from sklearn.metrics import mean_squared_error\n",
    "\n",
    "X_train, X_val, y_train, y_val = train_test_split(X, y, random_state=49)\n",
    "\n",
    "gbrt = GradientBoostingRegressor(max_depth=2, n_estimators=120, random_state=42)\n",
    "gbrt.fit(X_train, y_train)\n",
    "\n",
    "errors = [mean_squared_error(y_val, y_pred)\n",
    "          for y_pred in gbrt.staged_predict(X_val)]\n",
    "bst_n_estimators = np.argmin(errors) + 1\n",
    "\n",
    "gbrt_best = GradientBoostingRegressor(max_depth=2, n_estimators=bst_n_estimators, random_state=42)\n",
    "gbrt_best.fit(X_train, y_train)\n",
    "\n",
    "# Or\n",
    "\n",
    "gbrt = GradientBoostingRegressor(max_depth=2, warm_start=True, random_state=42)\n",
    "\n",
    "min_val_error = float(\"inf\")\n",
    "error_going_up = 0\n",
    "for n_estimators in range(1, 120):\n",
    "    gbrt.n_estimators = n_estimators\n",
    "    gbrt.fit(X_train, y_train)\n",
    "    y_pred = gbrt.predict(X_val)\n",
    "    val_error = mean_squared_error(y_val, y_pred)\n",
    "    if val_error < min_val_error:\n",
    "        min_val_error = val_error\n",
    "        error_going_up = 0\n",
    "    else:\n",
    "        error_going_up += 1\n",
    "        if error_going_up == 5:\n",
    "            break  # early stopping"
   ]
  },
  {
   "cell_type": "markdown",
   "metadata": {},
   "source": [
    "## Stacking\n",
    "* Stacking - short for stacked generalization uses a model to make the final prediction instead of just taking the majority vote from a bunch of weak learners\n",
    "* The final predictor is called a blender or meta learner\n",
    "![image](https://user-images.githubusercontent.com/29719483/175431583-8f4d70d5-2a67-4743-bf9c-be9298beeffe.png)\n",
    "* First divide the training set into two subsets (1 and 2)\n",
    "  * The first subset is used to train the individual predictors (weak learners)\n",
    "  * Once that's done they make predictions on the second subset to produce a clean dataset of predicted values\n",
    "  * Those predicted values are used as inputs into the blender with the same targets\n",
    "* You can do this several times over and form several layers\n",
    "* Scikit-learn doesn't have an implementation of this, but see [DESlib](https://github.com/scikit-learn-contrib/DESlib)"
   ]
  }
 ],
 "metadata": {
  "kernelspec": {
   "display_name": "Python 3 (ipykernel)",
   "language": "python",
   "name": "python3"
  },
  "language_info": {
   "codemirror_mode": {
    "name": "ipython",
    "version": 3
   },
   "file_extension": ".py",
   "mimetype": "text/x-python",
   "name": "python",
   "nbconvert_exporter": "python",
   "pygments_lexer": "ipython3",
   "version": "3.8.10"
  }
 },
 "nbformat": 4,
 "nbformat_minor": 4
}
