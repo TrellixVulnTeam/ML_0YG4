{
 "cells": [
  {
   "cell_type": "markdown",
   "metadata": {},
   "source": [
    "---\n",
    "layout: exercises\n",
    "chapter: 5\n",
    "chapter-title: Support Vector Machines\n",
    "permalink: /ml-book/chapter5/exercises.html\n",
    "---"
   ]
  },
  {
   "cell_type": "markdown",
   "metadata": {},
   "source": [
    "## Exercise 1\n",
    "\n",
    "You can use any flavor of Gradient Descent (Batch (provided there are few enough samples to fit in memory), Stochastic, or Mini-batch) if you have a training set with millions of features."
   ]
  },
  {
   "cell_type": "markdown",
   "metadata": {},
   "source": [
    "## Exercise 2\n",
    "\n",
    "All forms of Gradient Descent might suffer from features with very different scales. This is because they will converge slower since the gradient descent will take a circuitous route to the minimum as 4-7 illustrates. I like to think about this as an ellipse and the gradient descent goes towards the semi major axis first, once it reaches there it heads along it towards the minimum. To fix this you can standard scale or min max scale the features."
   ]
  },
  {
   "cell_type": "markdown",
   "metadata": {},
   "source": [
    "## Exercise 3\n",
    "\n",
    "No, the log loss function for Logistic Regression is convex so there's no need to worry about it getting stuck in a local minimum."
   ]
  },
  {
   "cell_type": "markdown",
   "metadata": {},
   "source": [
    "## Exercise 4\n",
    "\n",
    "Not all Gradient Descent algorithms lead to the exact same model provided you let them run long enough. Most of the time it's close enough, but Batch Gradient descent will converge smoothly to a specific minimum. However, Stochastic Gradient Descent and Mini-Batch Gradient Descent may \"bounce\" around the global minimum. However, if you gradually lower the learning rate they will become closer and closer to BGD."
   ]
  },
  {
   "cell_type": "markdown",
   "metadata": {},
   "source": [
    "## Exercise 5\n",
    "\n",
    "If the validation error goes up at every epoch you're likely overfitting. There are various methods to prevent overfitting including: Use a less complicated model, use Ridge, Lasso, or Elastic Net regularization, increase the size of your (training) dataset. Geron notes that it could also be that the learning rate is too high this would definitely be the case if the training error is going up as well."
   ]
  },
  {
   "cell_type": "markdown",
   "metadata": {},
   "source": [
    "## Exercise 6\n",
    "\n",
    "Typically to implement early stopping you would have some patience factor. I don't think it would be a good idea to stop immediately because of this. For example, the validation error could be consistently going down, increase for one epoch, and then go down for the next 10 epochs. The patience factor says something like \"if _ epochs go by without a decrease in the validation error, then stop (and revert to minimum validation error model)\"."
   ]
  },
  {
   "cell_type": "markdown",
   "metadata": {},
   "source": [
    "## Exercise 7\n",
    "\n",
    "The normal equations will be fast when the number of features is low because it is linear in the number of samples, it will converge exactly. Batch Gradient Descent will be slow for a large number of samples, but largely unaffected by the number of features, it will converge exactly. Stochastic Gradient Descent and Mini-batch Gradient Descent will both be fast, but require that the learning rate be decreases so that they actually converge."
   ]
  },
  {
   "cell_type": "markdown",
   "metadata": {},
   "source": [
    "## Exercise 8\n",
    "\n",
    "Three ways to solve a gap between the training error and validation error in Polynomial Regression are: Increase size of the dataset, apply regularization, use a less complicated model. Overfitting is what is happening. Nailed this answer : )"
   ]
  },
  {
   "cell_type": "markdown",
   "metadata": {},
   "source": [
    "## Exercise 9\n",
    "\n",
    "If the training error and validation error are almost equal and fairly high then that indicates high bias. You should reduce the regularization parameter $\\alpha$."
   ]
  },
  {
   "cell_type": "markdown",
   "metadata": {},
   "source": [
    "## Exercise 10\n",
    "\n",
    "* Ridge Regression instead of Linear Regression?\n",
    "  * You want to prevent overfitting (high variance) in your model.\n",
    "* Lasso instead of Ridge Regression?\n",
    "  * You want to completely eliminate the impact of the least important features instead of just penalizing them.\n",
    "* Elastic Net instead of Lasso?\n",
    "  * You want to reduce the complexity of your model and only use the most important features, but want to avoid the erratic behavior of Lasso (when # features > # samples or several features are strongly correlated).\n",
    "  * Good tip from Geron: If you want to use Lasso without the negative effects just use Elastic Net with an l1 ratio close to 1."
   ]
  },
  {
   "cell_type": "markdown",
   "metadata": {},
   "source": [
    "## Exercise 11\n",
    "\n",
    "If you want to classify pictures as outdoor/indoor and daytime/nighttime, then you should implement two Logistic Regression classifiers instead of one Softmax Regression classifier. Softmax Regression is multi-class, not multi-output."
   ]
  },
  {
   "cell_type": "markdown",
   "metadata": {},
   "source": [
    "## Exercise 12\n",
    "\n",
    "Implement Batch Gradient Descent with early stopping for Softmax Regression"
   ]
  },
  {
   "cell_type": "code",
   "execution_count": 1,
   "metadata": {},
   "outputs": [],
   "source": [
    "# This sounds difficult, but let's give it a shot\n",
    "from sklearn.datasets import load_iris\n",
    "import numpy as np\n",
    "\n",
    "iris = load_iris()"
   ]
  },
  {
   "cell_type": "code",
   "execution_count": 2,
   "metadata": {},
   "outputs": [
    {
     "name": "stdout",
     "output_type": "stream",
     "text": [
      "[105 135 150]\n",
      "(105, 4) (105, 1)\n",
      "(30, 4) (30, 1)\n",
      "(15, 4) (15, 1)\n"
     ]
    }
   ],
   "source": [
    "X, y = iris[\"data\"], iris[\"target\"]\n",
    "arr = np.hstack((X, y[np.newaxis, :].T))\n",
    "np.random.seed(5)\n",
    "p = np.random.permutation(len(arr))\n",
    "arr = arr[p]\n",
    "s = (np.array([0.7, 0.2, 0.1]) * len(arr)).astype(int)\n",
    "s = np.cumsum(s)\n",
    "print(s)\n",
    "X_train, y_train = arr[0:s[0], :-1], arr[0:s[0], -1][:, np.newaxis]\n",
    "print(X_train.shape, y_train.shape)\n",
    "X_val, y_val = arr[s[0]:s[1], :-1], arr[s[0]:s[1], -1][:, np.newaxis]\n",
    "print(X_val.shape, y_val.shape)\n",
    "X_test, y_test = arr[s[1]:s[2], :-1], arr[s[1]:s[2], -1][:, np.newaxis]\n",
    "print(X_test.shape, y_test.shape)"
   ]
  },
  {
   "cell_type": "code",
   "execution_count": 3,
   "metadata": {},
   "outputs": [
    {
     "name": "stdout",
     "output_type": "stream",
     "text": [
      "Loss:  0.73\n",
      "Loss:  0.6\n",
      "Loss:  0.54\n",
      "Loss:  0.5\n",
      "Loss:  0.47\n",
      "Loss:  0.44\n",
      "Loss:  0.42\n",
      "Loss:  0.41\n",
      "Loss:  0.39\n",
      "Loss:  0.38\n"
     ]
    },
    {
     "data": {
      "text/plain": [
       "array([[ 1.3326466 ,  1.17699356,  0.49879875],\n",
       "       [ 1.84638559,  0.75029511,  0.40886567],\n",
       "       [-0.19686822,  1.2119394 ,  1.98789651],\n",
       "       [ 0.44451838,  0.84531752,  1.71079481]])"
      ]
     },
     "execution_count": 3,
     "metadata": {},
     "output_type": "execute_result"
    }
   ],
   "source": [
    "def softmax_eval(X, y, theta):\n",
    "    y = y[:, 0]\n",
    "    m = X.shape[0]\n",
    "    K = len(set(y))\n",
    "    l = 0\n",
    "    for k in range(K):\n",
    "        y_tmp = (y == k).astype(int)\n",
    "        for i in range(m):\n",
    "            s_k = theta[:, k].T @ X[i]\n",
    "            p_k = np.exp(s_k) / sum(np.exp(theta[:, k].T @ X[i]) for k in range(K))\n",
    "            l += y_tmp[i] * np.log(p_k)\n",
    "    l = (-1 / m) * l\n",
    "    return l\n",
    "        \n",
    "\n",
    "def train(X, y, iters=1000, lr=0.01):\n",
    "    y = y[:, 0]\n",
    "    m = X.shape[0]\n",
    "    K = len(set(y))\n",
    "    theta = np.ones((X.shape[1], K))\n",
    "    eta = lr\n",
    "    for iteration in range(iters):\n",
    "        for k in range(K):\n",
    "            y_tmp = (y == k).astype(int)\n",
    "            grad_k = 0\n",
    "            for i in range(m):\n",
    "                s_k = theta[:, k].T.dot(X[i])\n",
    "                p_k = np.exp(s_k) / sum(np.exp(theta[:, k].T @ X[i]) for k in range(K))\n",
    "                grad_k += (p_k - y_tmp[i]) * X[i]\n",
    "            grad_k = (1 / m)*grad_k\n",
    "            theta[:, k] = theta[:, k] - eta * grad_k\n",
    "        if (iteration + 1) % 100 == 0:\n",
    "            l = softmax_eval(X, y.reshape((-1, 1)), theta)\n",
    "            print(\"Loss: \", round(l, 2))\n",
    "    return theta\n",
    "\n",
    "train(X_train, y_train)"
   ]
  },
  {
   "cell_type": "markdown",
   "metadata": {},
   "source": [
    "This was my first attempt... looking at Geron's work there's still a little to do here.\n",
    "The main difference is that he vectorized everything. He also added the bias term which I forgot to do."
   ]
  },
  {
   "cell_type": "code",
   "execution_count": 4,
   "metadata": {
    "scrolled": false
   },
   "outputs": [],
   "source": [
    "def one_hot(y):\n",
    "    K = len(set(y[:, 0]))\n",
    "    new_y = np.zeros((len(y), K))\n",
    "    i, j = np.indices(new_y.shape)\n",
    "    return (j == y).astype(int)"
   ]
  },
  {
   "cell_type": "code",
   "execution_count": 5,
   "metadata": {},
   "outputs": [
    {
     "name": "stdout",
     "output_type": "stream",
     "text": [
      "1000 0.3342596544930866\n",
      "2000 0.25429893944101895\n",
      "3000 0.21449143442540694\n",
      "4000 0.19125970341767579\n",
      "5000 0.17637229776556052\n",
      "6000 0.16619324074143058\n",
      "7000 0.15889600701967801\n",
      "8000 0.1534742080223439\n",
      "9000 0.1493327048861036\n",
      "10000 0.14609930897339848\n",
      "11000 0.1435304671922347\n",
      "12000 0.14146072082146635\n",
      "13000 0.13977407415470203\n",
      "14000 0.1383870025727842\n",
      "15000 0.13723796172201708\n",
      "16000 0.136280686463588\n",
      "17000 0.13547978213770803\n",
      "18000 0.1348077477661006\n",
      "19000 0.1342429194633856\n",
      "20000 0.13376802026256793\n",
      "21000 0.1333691186414038\n",
      "22000 0.13303486811330995\n",
      "23000 0.13275594366356386\n",
      "24000 0.1325246183485923\n",
      "25000 0.13233444121623\n",
      "26000 0.13217998948842136\n",
      "27000 0.1320566758700738\n",
      "28000 0.13196059726122655\n",
      "29000 0.13188841490471628\n",
      "30000 0.1318372586424963\n",
      "31000 0.13180464983522938\n",
      "32000 0.1317884388562891\n",
      "Early Stopping\n"
     ]
    }
   ],
   "source": [
    "def cross_entropy_loss(X, y, theta):\n",
    "    m = X.shape[0]\n",
    "    # Assume X has bias and y is onehot at this point\n",
    "    s = X.dot(theta)\n",
    "    p = np.exp(s) / np.sum(np.exp(s), axis=1)[:, np.newaxis]\n",
    "    return (-1 / m) * np.sum(y * np.log(p))\n",
    "\n",
    "def accuracy(X, y, theta):\n",
    "    s = X.dot(theta)\n",
    "    p = np.exp(s) / np.sum(np.exp(s), axis=1)[:, np.newaxis]\n",
    "    pmax = np.argmax(p, axis=1)\n",
    "    preds = y[range(y.shape[0]), pmax]\n",
    "    return sum(preds) / sum(np.ones(len(preds)))\n",
    "    \n",
    "\n",
    "\n",
    "def train_vectorized(X, y, X_val, y_val, iters=1000001, lr=0.01, patience=5):\n",
    "    # Add bias to X\n",
    "    X = np.hstack((np.ones((X.shape[0], 1)), X))\n",
    "    X_val = np.hstack((np.ones((X_val.shape[0], 1)), X_val))\n",
    "    \n",
    "    # One hot y\n",
    "    y = one_hot(y)\n",
    "    y_val = one_hot(y_val)\n",
    "    \n",
    "    \n",
    "    m = X.shape[0]\n",
    "    K = y.shape[1]\n",
    "\n",
    "    # Initial guess for theta\n",
    "    theta = np.ones((X.shape[1], K))\n",
    "    eta = lr\n",
    "    best_val_loss = np.inf\n",
    "    \n",
    "    for iteration in range(iters):\n",
    "        # s_k = theta_k^T \\cdot x\n",
    "        s = X.dot(theta)\n",
    "        p = np.exp(s) / np.sum(np.exp(s), axis=1)[:, np.newaxis]\n",
    "        grad = (1 / m) * X.T.dot(p - y)\n",
    "        theta -= eta * grad\n",
    "\n",
    "        val_loss = cross_entropy_loss(X_val, y_val, theta)\n",
    "        if ((iteration + 1) % 1000) == 0:\n",
    "            print(iteration + 1, val_loss)\n",
    "        if val_loss < best_val_loss:\n",
    "            best_val_loss = val_loss\n",
    "            best_theta = theta\n",
    "            patience_cnt = 0\n",
    "        else:\n",
    "            patience_cnt += 1\n",
    "            if patience_cnt >= patience:\n",
    "                print(\"Early Stopping\")\n",
    "                return best_theta, best_val_loss\n",
    "    print(\"Warning no Early Stopping\")\n",
    "    return best_theta, best_val_loss\n",
    "            \n",
    "        \n",
    "theta, _ = train_vectorized(X_train, y_train, X_val, y_val)\n"
   ]
  },
  {
   "cell_type": "code",
   "execution_count": 6,
   "metadata": {},
   "outputs": [
    {
     "data": {
      "text/plain": [
       "1.0"
      ]
     },
     "execution_count": 6,
     "metadata": {},
     "output_type": "execute_result"
    }
   ],
   "source": [
    "# Add bias to X\n",
    "X_test = np.hstack((np.ones((X_test.shape[0], 1)),X_test))\n",
    "\n",
    "# One hot y\n",
    "y_test = one_hot(y_test)\n",
    "accuracy(X_test, y_test, theta)"
   ]
  },
  {
   "cell_type": "code",
   "execution_count": 7,
   "metadata": {},
   "outputs": [
    {
     "name": "stdout",
     "output_type": "stream",
     "text": [
      "[0.    0.124 0.876] [0 0 1]\n",
      "[0.001 0.983 0.015] [0 1 0]\n",
      "[0.98 0.02 0.  ] [1 0 0]\n",
      "[0.004 0.994 0.002] [0 1 0]\n",
      "[0.992 0.008 0.   ] [1 0 0]\n",
      "[0.996 0.004 0.   ] [1 0 0]\n",
      "[0.003 0.986 0.011] [0 1 0]\n",
      "[0.    0.004 0.996] [0 0 1]\n",
      "[0.994 0.006 0.   ] [1 0 0]\n",
      "[0.    0.038 0.962] [0 0 1]\n",
      "[0.98 0.02 0.  ] [1 0 0]\n",
      "[0.    0.948 0.051] [0 1 0]\n",
      "[0.    0.003 0.997] [0 0 1]\n",
      "[0. 0. 1.] [0 0 1]\n",
      "[0.003 0.979 0.018] [0 1 0]\n"
     ]
    }
   ],
   "source": [
    "s = X_test.dot(theta)\n",
    "p = np.exp(s) / np.sum(np.exp(s), axis=1)[:, np.newaxis]\n",
    "for i in range(len(p)):\n",
    "    print(np.round(p[i], 3), y_test[i])"
   ]
  },
  {
   "cell_type": "markdown",
   "metadata": {},
   "source": [
    "I had an error in my code where the variable m in the cross_entropy_loss was being taken from the global context (since it wasn't defined in the scope of the function). As a result, the validation loss was constantly decreasing. That was pretty annoying because I was like how am I supposed to implement early stopping if it just keeps decreasing. Anyways, I'm glad I got this working eventually :). One thing I learned is how to convert from a sum to a vectorized form in code. Here's a quick demo of that."
   ]
  },
  {
   "cell_type": "code",
   "execution_count": 8,
   "metadata": {},
   "outputs": [
    {
     "name": "stdout",
     "output_type": "stream",
     "text": [
      "X shape: (105, 5) \n",
      "y shape: (105, 1) \n",
      "theta shape: (5, 3)\n"
     ]
    }
   ],
   "source": [
    "X_train_bias = np.hstack((np.ones((X_train.shape[0], 1)), X_train))\n",
    "print(\n",
    "    \"X shape:\",\n",
    "    X_train_bias.shape,\n",
    "    \"\\ny shape:\",\n",
    "    y_train.shape,\n",
    "    \"\\n\" \"theta shape:\",\n",
    "    theta.shape,\n",
    ")\n",
    "\n",
    "# Number of features in the training set should be equal to the number of fitted parameters in theta\n",
    "assert X_train_bias.shape[1] == theta.shape[0]\n",
    "\n",
    "# Number of classes should be equal to the number of columns in theta\n",
    "assert len(set(y_train[:, 0])) == theta.shape[1]\n",
    "\n",
    "\n",
    "def longway(X, y, theta):\n",
    "    dtheta = np.zeros(theta.shape)\n",
    "    m = len(X)\n",
    "    J = theta.shape[0]\n",
    "    K = len(set(y_train[:, 0]))\n",
    "    for k in range(K):\n",
    "        for j in range(J):\n",
    "            s = 0\n",
    "            for i in range(m):\n",
    "                s += (theta[:, k].dot(X[i]) - y[i, 0]) * X[i, j]\n",
    "            dtheta[j, k] = (2 / m) * s\n",
    "    return dtheta\n",
    "\n",
    "\n",
    "def shortway(X, y, theta):\n",
    "    m = len(X)\n",
    "    J = theta.shape[0]\n",
    "    K = len(set(y_train[:, 0]))\n",
    "    X.dot(theta) - y\n",
    "    return (2 / m) * X.T.dot(X.dot(theta) - y)"
   ]
  },
  {
   "cell_type": "code",
   "execution_count": 9,
   "metadata": {},
   "outputs": [
    {
     "data": {
      "text/plain": [
       "True"
      ]
     },
     "execution_count": 9,
     "metadata": {},
     "output_type": "execute_result"
    }
   ],
   "source": [
    "# These are equivalent methods\n",
    "# Obviously the vectorized one is easier to code and understand\n",
    "# although it takes some thought to write it out\n",
    "\n",
    "np.array_equal(shortway(X_train_bias, y_train, theta).round(4), \n",
    "               longway(X_train_bias, y_train, theta).round(4))"
   ]
  },
  {
   "cell_type": "code",
   "execution_count": 10,
   "metadata": {},
   "outputs": [
    {
     "name": "stdout",
     "output_type": "stream",
     "text": [
      "2.69 ms ± 59.4 µs per loop (mean ± std. dev. of 7 runs, 100 loops each)\n",
      "26.5 µs ± 165 ns per loop (mean ± std. dev. of 7 runs, 10000 loops each)\n"
     ]
    }
   ],
   "source": [
    "# And the shortway is much faster!!\n",
    "%timeit longway(X_train_bias, y_train, theta)\n",
    "%timeit shortway(X_train_bias, y_train, theta)"
   ]
  },
  {
   "cell_type": "code",
   "execution_count": null,
   "metadata": {},
   "outputs": [],
   "source": []
  }
 ],
 "metadata": {
  "kernelspec": {
   "display_name": "venv",
   "language": "python",
   "name": "venv"
  },
  "language_info": {
   "codemirror_mode": {
    "name": "ipython",
    "version": 3
   },
   "file_extension": ".py",
   "mimetype": "text/x-python",
   "name": "python",
   "nbconvert_exporter": "python",
   "pygments_lexer": "ipython3",
   "version": "3.8.5"
  }
 },
 "nbformat": 4,
 "nbformat_minor": 4
}
